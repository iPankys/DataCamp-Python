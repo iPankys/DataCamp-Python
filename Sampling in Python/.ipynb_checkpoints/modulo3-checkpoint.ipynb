{
 "cells": [
  {
   "cell_type": "markdown",
   "id": "f4a5716a",
   "metadata": {},
   "source": [
    "# Relative error of point estimates"
   ]
  },
  {
   "cell_type": "code",
   "execution_count": 1,
   "id": "f42f2a42",
   "metadata": {},
   "outputs": [],
   "source": [
    "import pandas as pd\n",
    "import numpy as np"
   ]
  },
  {
   "cell_type": "code",
   "execution_count": 2,
   "id": "fd9719ad",
   "metadata": {},
   "outputs": [],
   "source": [
    "coffee_ratings = pd.read_feather(\"../datasets/coffee_ratings_full.feather\")\n",
    "coffee_ratings.head()"
   ]
  },
  {
   "cell_type": "code",
   "execution_count": 20,
   "id": "d2224615",
   "metadata": {},
   "outputs": [
    {
     "data": {
      "text/html": [
       "<div>\n",
       "<style scoped>\n",
       "    .dataframe tbody tr th:only-of-type {\n",
       "        vertical-align: middle;\n",
       "    }\n",
       "\n",
       "    .dataframe tbody tr th {\n",
       "        vertical-align: top;\n",
       "    }\n",
       "\n",
       "    .dataframe thead th {\n",
       "        text-align: right;\n",
       "    }\n",
       "</style>\n",
       "<table border=\"1\" class=\"dataframe\">\n",
       "  <thead>\n",
       "    <tr style=\"text-align: right;\">\n",
       "      <th></th>\n",
       "      <th>Age</th>\n",
       "      <th>Attrition</th>\n",
       "      <th>BusinessTravel</th>\n",
       "      <th>DailyRate</th>\n",
       "      <th>Department</th>\n",
       "      <th>DistanceFromHome</th>\n",
       "      <th>Education</th>\n",
       "      <th>EducationField</th>\n",
       "      <th>EnvironmentSatisfaction</th>\n",
       "      <th>Gender</th>\n",
       "      <th>...</th>\n",
       "      <th>PerformanceRating</th>\n",
       "      <th>RelationshipSatisfaction</th>\n",
       "      <th>StockOptionLevel</th>\n",
       "      <th>TotalWorkingYears</th>\n",
       "      <th>TrainingTimesLastYear</th>\n",
       "      <th>WorkLifeBalance</th>\n",
       "      <th>YearsAtCompany</th>\n",
       "      <th>YearsInCurrentRole</th>\n",
       "      <th>YearsSinceLastPromotion</th>\n",
       "      <th>YearsWithCurrManager</th>\n",
       "    </tr>\n",
       "  </thead>\n",
       "  <tbody>\n",
       "    <tr>\n",
       "      <th>0</th>\n",
       "      <td>21</td>\n",
       "      <td>0.0</td>\n",
       "      <td>Travel_Rarely</td>\n",
       "      <td>391</td>\n",
       "      <td>Research_Development</td>\n",
       "      <td>15</td>\n",
       "      <td>College</td>\n",
       "      <td>Life_Sciences</td>\n",
       "      <td>High</td>\n",
       "      <td>Male</td>\n",
       "      <td>...</td>\n",
       "      <td>Excellent</td>\n",
       "      <td>Very_High</td>\n",
       "      <td>0</td>\n",
       "      <td>0</td>\n",
       "      <td>6</td>\n",
       "      <td>Better</td>\n",
       "      <td>0</td>\n",
       "      <td>0</td>\n",
       "      <td>0</td>\n",
       "      <td>0</td>\n",
       "    </tr>\n",
       "    <tr>\n",
       "      <th>1</th>\n",
       "      <td>19</td>\n",
       "      <td>1.0</td>\n",
       "      <td>Travel_Rarely</td>\n",
       "      <td>528</td>\n",
       "      <td>Sales</td>\n",
       "      <td>22</td>\n",
       "      <td>Below_College</td>\n",
       "      <td>Marketing</td>\n",
       "      <td>Very_High</td>\n",
       "      <td>Male</td>\n",
       "      <td>...</td>\n",
       "      <td>Excellent</td>\n",
       "      <td>Very_High</td>\n",
       "      <td>0</td>\n",
       "      <td>0</td>\n",
       "      <td>2</td>\n",
       "      <td>Good</td>\n",
       "      <td>0</td>\n",
       "      <td>0</td>\n",
       "      <td>0</td>\n",
       "      <td>0</td>\n",
       "    </tr>\n",
       "    <tr>\n",
       "      <th>2</th>\n",
       "      <td>18</td>\n",
       "      <td>1.0</td>\n",
       "      <td>Travel_Rarely</td>\n",
       "      <td>230</td>\n",
       "      <td>Research_Development</td>\n",
       "      <td>3</td>\n",
       "      <td>Bachelor</td>\n",
       "      <td>Life_Sciences</td>\n",
       "      <td>High</td>\n",
       "      <td>Male</td>\n",
       "      <td>...</td>\n",
       "      <td>Excellent</td>\n",
       "      <td>High</td>\n",
       "      <td>0</td>\n",
       "      <td>0</td>\n",
       "      <td>2</td>\n",
       "      <td>Better</td>\n",
       "      <td>0</td>\n",
       "      <td>0</td>\n",
       "      <td>0</td>\n",
       "      <td>0</td>\n",
       "    </tr>\n",
       "    <tr>\n",
       "      <th>3</th>\n",
       "      <td>18</td>\n",
       "      <td>0.0</td>\n",
       "      <td>Travel_Rarely</td>\n",
       "      <td>812</td>\n",
       "      <td>Sales</td>\n",
       "      <td>10</td>\n",
       "      <td>Bachelor</td>\n",
       "      <td>Medical</td>\n",
       "      <td>Very_High</td>\n",
       "      <td>Female</td>\n",
       "      <td>...</td>\n",
       "      <td>Excellent</td>\n",
       "      <td>Low</td>\n",
       "      <td>0</td>\n",
       "      <td>0</td>\n",
       "      <td>2</td>\n",
       "      <td>Better</td>\n",
       "      <td>0</td>\n",
       "      <td>0</td>\n",
       "      <td>0</td>\n",
       "      <td>0</td>\n",
       "    </tr>\n",
       "    <tr>\n",
       "      <th>4</th>\n",
       "      <td>18</td>\n",
       "      <td>1.0</td>\n",
       "      <td>Travel_Frequently</td>\n",
       "      <td>1306</td>\n",
       "      <td>Sales</td>\n",
       "      <td>5</td>\n",
       "      <td>Bachelor</td>\n",
       "      <td>Marketing</td>\n",
       "      <td>Medium</td>\n",
       "      <td>Male</td>\n",
       "      <td>...</td>\n",
       "      <td>Excellent</td>\n",
       "      <td>Very_High</td>\n",
       "      <td>0</td>\n",
       "      <td>0</td>\n",
       "      <td>3</td>\n",
       "      <td>Better</td>\n",
       "      <td>0</td>\n",
       "      <td>0</td>\n",
       "      <td>0</td>\n",
       "      <td>0</td>\n",
       "    </tr>\n",
       "  </tbody>\n",
       "</table>\n",
       "<p>5 rows × 31 columns</p>\n",
       "</div>"
      ],
      "text/plain": [
       "   Age  Attrition     BusinessTravel  DailyRate            Department  \\\n",
       "0   21        0.0      Travel_Rarely        391  Research_Development   \n",
       "1   19        1.0      Travel_Rarely        528                 Sales   \n",
       "2   18        1.0      Travel_Rarely        230  Research_Development   \n",
       "3   18        0.0      Travel_Rarely        812                 Sales   \n",
       "4   18        1.0  Travel_Frequently       1306                 Sales   \n",
       "\n",
       "   DistanceFromHome      Education EducationField EnvironmentSatisfaction  \\\n",
       "0                15        College  Life_Sciences                    High   \n",
       "1                22  Below_College      Marketing               Very_High   \n",
       "2                 3       Bachelor  Life_Sciences                    High   \n",
       "3                10       Bachelor        Medical               Very_High   \n",
       "4                 5       Bachelor      Marketing                  Medium   \n",
       "\n",
       "   Gender  ...  PerformanceRating RelationshipSatisfaction  StockOptionLevel  \\\n",
       "0    Male  ...          Excellent                Very_High                 0   \n",
       "1    Male  ...          Excellent                Very_High                 0   \n",
       "2    Male  ...          Excellent                     High                 0   \n",
       "3  Female  ...          Excellent                      Low                 0   \n",
       "4    Male  ...          Excellent                Very_High                 0   \n",
       "\n",
       "  TotalWorkingYears TrainingTimesLastYear WorkLifeBalance  YearsAtCompany  \\\n",
       "0                 0                     6          Better               0   \n",
       "1                 0                     2            Good               0   \n",
       "2                 0                     2          Better               0   \n",
       "3                 0                     2          Better               0   \n",
       "4                 0                     3          Better               0   \n",
       "\n",
       "   YearsInCurrentRole  YearsSinceLastPromotion YearsWithCurrManager  \n",
       "0                   0                        0                    0  \n",
       "1                   0                        0                    0  \n",
       "2                   0                        0                    0  \n",
       "3                   0                        0                    0  \n",
       "4                   0                        0                    0  \n",
       "\n",
       "[5 rows x 31 columns]"
      ]
     },
     "execution_count": 20,
     "metadata": {},
     "output_type": "execute_result"
    }
   ],
   "source": [
    "attrition_pop = pd.read_feather(\"../datasets/attrition.feather\")\n",
    "attrition_pop.head()"
   ]
  },
  {
   "cell_type": "markdown",
   "id": "a6308801",
   "metadata": {},
   "source": [
    "## Sample size is number of rows"
   ]
  },
  {
   "cell_type": "code",
   "execution_count": 4,
   "id": "df74e1d1",
   "metadata": {},
   "outputs": [
    {
     "data": {
      "text/plain": [
       "300"
      ]
     },
     "execution_count": 4,
     "metadata": {},
     "output_type": "execute_result"
    }
   ],
   "source": [
    "len(coffee_ratings.sample(n=300))"
   ]
  },
  {
   "cell_type": "code",
   "execution_count": 5,
   "id": "d52bea7c",
   "metadata": {},
   "outputs": [
    {
     "data": {
      "text/plain": [
       "334"
      ]
     },
     "execution_count": 5,
     "metadata": {},
     "output_type": "execute_result"
    }
   ],
   "source": [
    "len(coffee_ratings.sample(frac=0.25))"
   ]
  },
  {
   "cell_type": "markdown",
   "id": "f5cc433f",
   "metadata": {},
   "source": [
    "## Various sample sizes"
   ]
  },
  {
   "cell_type": "code",
   "execution_count": 6,
   "id": "6a069c07",
   "metadata": {},
   "outputs": [
    {
     "data": {
      "text/plain": [
       "82.15120328849028"
      ]
     },
     "execution_count": 6,
     "metadata": {},
     "output_type": "execute_result"
    }
   ],
   "source": [
    "coffee_ratings['total_cup_points'].mean()"
   ]
  },
  {
   "cell_type": "code",
   "execution_count": 7,
   "id": "bc1ad56a",
   "metadata": {},
   "outputs": [
    {
     "data": {
      "text/plain": [
       "80.441"
      ]
     },
     "execution_count": 7,
     "metadata": {},
     "output_type": "execute_result"
    }
   ],
   "source": [
    "coffee_ratings.sample(n=10)['total_cup_points'].mean()"
   ]
  },
  {
   "cell_type": "code",
   "execution_count": 8,
   "id": "2f67b9ba",
   "metadata": {},
   "outputs": [
    {
     "data": {
      "text/plain": [
       "82.22810000000001"
      ]
     },
     "execution_count": 8,
     "metadata": {},
     "output_type": "execute_result"
    }
   ],
   "source": [
    "coffee_ratings.sample(n=100)['total_cup_points'].mean()"
   ]
  },
  {
   "cell_type": "code",
   "execution_count": 9,
   "id": "04eba33e",
   "metadata": {},
   "outputs": [
    {
     "data": {
      "text/plain": [
       "82.08973000000002"
      ]
     },
     "execution_count": 9,
     "metadata": {},
     "output_type": "execute_result"
    }
   ],
   "source": [
    "coffee_ratings.sample(n=1000)['total_cup_points'].mean()"
   ]
  },
  {
   "cell_type": "markdown",
   "id": "83bb0346",
   "metadata": {},
   "source": [
    "## Relative errors"
   ]
  },
  {
   "cell_type": "code",
   "execution_count": 10,
   "id": "4656f3a3",
   "metadata": {},
   "outputs": [],
   "source": [
    "# Population parameter:\n",
    "population_mean = coffee_ratings['total_cup_points'].mean()"
   ]
  },
  {
   "cell_type": "code",
   "execution_count": 12,
   "id": "45669c3f",
   "metadata": {},
   "outputs": [],
   "source": [
    "# Point estimate:\n",
    "sample_size = 100 # um valor qualquer\n",
    "sample_mean = coffee_ratings.sample(n=sample_size)['total_cup_points'].mean()"
   ]
  },
  {
   "cell_type": "code",
   "execution_count": 15,
   "id": "e665be0e",
   "metadata": {},
   "outputs": [],
   "source": [
    "# Relative error as a percentage:\n",
    "rel_error_pct = 100 * abs(population_mean -sample_mean) / population_mean\n"
   ]
  },
  {
   "cell_type": "markdown",
   "id": "380a26c8",
   "metadata": {},
   "source": [
    "## Relative error vs. sample size"
   ]
  },
  {
   "cell_type": "code",
   "execution_count": 16,
   "id": "0b0509f6",
   "metadata": {},
   "outputs": [
    {
     "ename": "NameError",
     "evalue": "name 'errors' is not defined",
     "output_type": "error",
     "traceback": [
      "\u001b[0;31m---------------------------------------------------------------------------\u001b[0m",
      "\u001b[0;31mNameError\u001b[0m                                 Traceback (most recent call last)",
      "\u001b[0;32m/tmp/ipykernel_37848/871132169.py\u001b[0m in \u001b[0;36m<module>\u001b[0;34m\u001b[0m\n\u001b[1;32m      1\u001b[0m \u001b[0;32mimport\u001b[0m \u001b[0mmatplotlib\u001b[0m\u001b[0;34m.\u001b[0m\u001b[0mpyplot\u001b[0m \u001b[0;32mas\u001b[0m \u001b[0mplt\u001b[0m\u001b[0;34m\u001b[0m\u001b[0;34m\u001b[0m\u001b[0m\n\u001b[0;32m----> 2\u001b[0;31m errors.plot(x=\"sample_size\",\n\u001b[0m\u001b[1;32m      3\u001b[0m \u001b[0my\u001b[0m\u001b[0;34m=\u001b[0m\u001b[0;34m\"relative_error\"\u001b[0m\u001b[0;34m,\u001b[0m\u001b[0;34m\u001b[0m\u001b[0;34m\u001b[0m\u001b[0m\n\u001b[1;32m      4\u001b[0m kind=\"line\")\n\u001b[1;32m      5\u001b[0m \u001b[0mplt\u001b[0m\u001b[0;34m.\u001b[0m\u001b[0mshow\u001b[0m\u001b[0;34m(\u001b[0m\u001b[0;34m)\u001b[0m\u001b[0;34m\u001b[0m\u001b[0;34m\u001b[0m\u001b[0m\n",
      "\u001b[0;31mNameError\u001b[0m: name 'errors' is not defined"
     ]
    }
   ],
   "source": [
    "import matplotlib.pyplot as plt\n",
    "\n",
    "# criar o errors, ele é composto po dois elemento x é quantidade de dados e o y é o erro calculado \n",
    "\n",
    "errors.plot(x=\"sample_size\", y=\"relative_error\", kind=\"line\")\n",
    "plt.show()"
   ]
  },
  {
   "cell_type": "markdown",
   "id": "b383d759",
   "metadata": {},
   "source": [
    "Properties:\n",
    "- Really noise, particularly for small samples\n",
    "- Amplitude is initially steep, then flattens\n",
    "- Relative error decreases to zero (when the sample size = population)"
   ]
  },
  {
   "cell_type": "markdown",
   "id": "3ea0f3f6",
   "metadata": {},
   "source": [
    "## Calculating relative errors\n",
    "\n",
    "The size of the sample you take affects how accurately the point estimates reflect the corresponding population parameter. For example, when you calculate a sample mean, you want it to be close to the population mean. However, if your sample is too small, this might not be the case.\n",
    "\n",
    "The most common metric for assessing accuracy is relative error. This is the absolute difference between the population parameter and the point estimate, all divided by the population parameter. It is sometimes expressed as a percentage."
   ]
  },
  {
   "cell_type": "code",
   "execution_count": 21,
   "id": "be12bc46",
   "metadata": {},
   "outputs": [],
   "source": [
    "mean_attrition_pop =  attrition_pop[\"Attrition\"].mean()"
   ]
  },
  {
   "cell_type": "code",
   "execution_count": 22,
   "id": "cd8b3b82",
   "metadata": {},
   "outputs": [
    {
     "name": "stdout",
     "output_type": "stream",
     "text": [
      "62.78481012658227\n"
     ]
    }
   ],
   "source": [
    "# Generate a simple random sample of 50 rows, with seed 2022\n",
    "attrition_srs50 = attrition_pop.sample(n=50, random_state=2022)\n",
    "\n",
    "# Calculate the mean employee attrition in the sample\n",
    "mean_attrition_srs50 = attrition_srs50[\"Attrition\"].mean()\n",
    "\n",
    "# Calculate the relative error percentage\n",
    "rel_error_pct50 = 100*abs(mean_attrition_srs50- mean_attrition_pop) /mean_attrition_pop\n",
    "\n",
    "# Print rel_error_pct50\n",
    "print(rel_error_pct50)"
   ]
  },
  {
   "cell_type": "code",
   "execution_count": 23,
   "id": "2eb6540f",
   "metadata": {},
   "outputs": [
    {
     "name": "stdout",
     "output_type": "stream",
     "text": [
      "6.962025316455695\n"
     ]
    }
   ],
   "source": [
    "# Generate a simple random sample of 100 rows, with seed 2022\n",
    "attrition_srs100 = attrition_pop.sample(n=100, random_state=2022)\n",
    "\n",
    "# Calculate the mean employee attrition in the sample\n",
    "mean_attrition_srs100 = attrition_srs100[\"Attrition\"].mean()\n",
    "\n",
    "# Calculate the relative error percentage\n",
    "rel_error_pct100 = 100 * abs(mean_attrition_srs100 - mean_attrition_pop )/mean_attrition_pop\n",
    "\n",
    "# Print rel_error_pct100\n",
    "print(rel_error_pct100)"
   ]
  },
  {
   "cell_type": "markdown",
   "id": "579a8611",
   "metadata": {},
   "source": [
    "**nota:** só que dizer quanto maior a amostra menor sera o erro  "
   ]
  },
  {
   "cell_type": "markdown",
   "id": "7b6f56a3",
   "metadata": {},
   "source": [
    "# Creating a sampling distribution"
   ]
  },
  {
   "cell_type": "markdown",
   "id": "eb52faa2",
   "metadata": {},
   "source": [
    "## Same code, different answer"
   ]
  },
  {
   "cell_type": "code",
   "execution_count": 24,
   "id": "21266b50",
   "metadata": {},
   "outputs": [
    {
     "data": {
      "text/plain": [
       "81.49433333333333"
      ]
     },
     "execution_count": 24,
     "metadata": {},
     "output_type": "execute_result"
    }
   ],
   "source": [
    "coffee_ratings.sample(n=30)['total_cup_points'].mean()"
   ]
  },
  {
   "cell_type": "code",
   "execution_count": 25,
   "id": "65a90231",
   "metadata": {},
   "outputs": [
    {
     "data": {
      "text/plain": [
       "81.99300000000001"
      ]
     },
     "execution_count": 25,
     "metadata": {},
     "output_type": "execute_result"
    }
   ],
   "source": [
    "coffee_ratings.sample(n=30)['total_cup_points'].mean()"
   ]
  },
  {
   "cell_type": "markdown",
   "id": "4c7eea9f",
   "metadata": {},
   "source": [
    "## Same code, 1000 times"
   ]
  },
  {
   "cell_type": "code",
   "execution_count": 26,
   "id": "bf19110f",
   "metadata": {},
   "outputs": [
    {
     "name": "stdout",
     "output_type": "stream",
     "text": [
      "[82.87000000000002, 81.99500000000002, 81.64233333333333, 82.83733333333333, 82.45233333333333, 81.46433333333333, 81.703, 82.82766666666666, 82.26966666666667, 82.21666666666667, 82.43666666666668, 82.41133333333333, 81.67799999999998, 83.014, 81.65266666666666, 81.32733333333333, 83.03866666666666, 81.22566666666668, 82.80300000000001, 82.41333333333333, 82.42566666666669, 82.17566666666667, 82.18333333333334, 81.41666666666667, 82.32266666666668, 82.44699999999999, 81.93900000000001, 82.36133333333333, 82.47533333333334, 82.17533333333334, 82.85033333333334, 81.74666666666667, 82.25866666666667, 81.52966666666666, 81.73966666666666, 82.691, 82.07466666666666, 82.41433333333333, 81.65066666666668, 82.53166666666668, 81.74233333333335, 82.53366666666668, 82.02766666666666, 82.34766666666665, 81.71333333333332, 82.23633333333333, 81.886, 81.839, 81.70100000000001, 81.88333333333334, 81.96966666666667, 81.137, 82.14733333333334, 82.45233333333334, 82.21766666666666, 82.22233333333334, 81.702, 82.28633333333332, 82.205, 83.45533333333333, 82.17766666666667, 82.48666666666666, 82.38333333333334, 82.45733333333332, 82.87133333333334, 81.74966666666667, 82.34433333333332, 82.39466666666667, 82.43666666666668, 81.91933333333333, 82.275, 81.675, 82.46066666666665, 81.66166666666668, 81.47800000000001, 82.13966666666667, 82.39466666666667, 83.16799999999999, 82.32000000000001, 82.52000000000001, 82.31133333333332, 82.159, 81.77866666666667, 82.8, 83.036, 82.97733333333333, 82.74199999999999, 82.33366666666666, 82.26133333333334, 82.422, 81.87699999999998, 83.012, 82.26666666666667, 83.028, 82.65833333333333, 82.13366666666667, 81.66366666666666, 82.56400000000001, 82.47800000000001, 81.96666666666667, 82.50333333333333, 82.48466666666667, 81.92566666666667, 82.25566666666667, 82.32300000000001, 81.36233333333332, 81.73366666666666, 82.289, 81.94466666666668, 81.93566666666668, 82.17233333333334, 82.37766666666667, 82.49966666666667, 82.36566666666666, 82.28233333333333, 82.25133333333335, 82.66966666666667, 82.347, 82.833, 82.54666666666667, 82.15499999999999, 82.51700000000001, 81.70333333333335, 81.98633333333333, 82.92166666666665, 82.25533333333333, 81.90033333333334, 82.49199999999999, 82.35499999999999, 82.40833333333333, 83.075, 82.49733333333333, 83.31933333333333, 82.93133333333334, 82.55033333333333, 82.44699999999999, 82.51133333333334, 82.84466666666667, 81.71366666666667, 82.39500000000001, 81.79533333333333, 83.025, 81.93633333333334, 82.28333333333333, 82.52, 83.08933333333334, 81.68900000000001, 80.662, 82.88033333333333, 81.961, 82.41933333333333, 82.119, 81.88366666666667, 81.60533333333333, 82.20333333333335, 82.61699999999999, 81.37233333333333, 82.04466666666667, 82.536, 82.25499999999998, 81.85, 82.53366666666668, 83.008, 81.731, 82.63100000000001, 81.25266666666667, 82.01033333333334, 81.88666666666667, 82.52833333333335, 82.25066666666666, 82.36166666666668, 82.32300000000001, 80.986, 82.69933333333333, 82.23366666666668, 81.375, 82.61633333333333, 82.36566666666666, 81.53333333333333, 82.30266666666667, 82.02266666666668, 81.79433333333334, 81.911, 81.84233333333333, 82.30233333333334, 81.29966666666668, 82.02466666666668, 81.97, 82.29766666666667, 82.248, 82.23366666666668, 81.59766666666668, 82.00266666666667, 82.78833333333334, 83.31099999999999, 82.27866666666667, 82.20800000000001, 82.539, 82.39200000000001, 81.57999999999998, 81.41766666666668, 82.06733333333334, 81.41966666666667, 82.37866666666667, 82.15566666666668, 81.781, 82.19166666666666, 82.622, 82.08266666666665, 81.37866666666667, 82.14733333333334, 81.77566666666668, 81.81666666666666, 81.228, 82.81066666666668, 82.48, 82.13966666666667, 82.00766666666665, 81.591, 82.40833333333333, 81.84166666666667, 81.941, 81.76666666666667, 81.71133333333334, 81.79166666666667, 82.34466666666667, 82.14399999999999, 82.453, 82.39166666666667, 82.37233333333333, 82.27233333333334, 82.22433333333333, 82.675, 82.00600000000001, 82.47, 81.88133333333333, 81.77833333333335, 82.36166666666666, 81.58066666666667, 81.60799999999999, 82.28466666666667, 82.42266666666667, 82.29233333333335, 83.08066666666667, 81.76666666666667, 81.36466666666666, 82.29966666666665, 81.93066666666667, 82.403, 82.50233333333334, 81.97866666666667, 82.74166666666666, 82.994, 82.74399999999999, 81.26666666666667, 82.40033333333334, 81.85, 82.10300000000001, 81.62233333333332, 82.16933333333334, 81.84266666666667, 81.48633333333333, 82.32533333333335, 82.30199999999999, 81.77600000000001, 82.46366666666667, 82.50600000000001, 82.37266666666666, 82.11666666666669, 82.12566666666666, 82.461, 82.09433333333332, 82.05533333333334, 83.49433333333333, 82.07300000000001, 83.16166666666666, 82.87266666666666, 82.139, 81.92566666666667, 82.04233333333333, 82.05866666666667, 82.77766666666666, 81.73499999999999, 82.38266666666665, 82.19666666666667, 82.56933333333333, 81.70933333333333, 82.54433333333333, 82.28099999999999, 82.21633333333332, 81.94699999999999, 81.214, 81.861, 81.664, 82.38366666666666, 81.82199999999999, 81.389, 82.33333333333333, 82.11433333333335, 81.97000000000001, 82.07200000000002, 81.136, 82.84, 81.40833333333333, 81.94666666666667, 82.44166666666666, 82.39200000000001, 81.79466666666667, 82.54400000000001, 82.42999999999999, 82.547, 82.77833333333334, 81.958, 82.00833333333334, 82.61366666666666, 82.92266666666667, 82.35833333333333, 81.96166666666667, 81.21466666666667, 82.52, 82.169, 82.11133333333333, 82.05633333333336, 82.45833333333333, 82.63066666666667, 82.88133333333333, 81.95233333333334, 81.986, 82.98833333333333, 81.59533333333334, 81.71433333333334, 82.32266666666668, 81.817, 82.08, 81.857, 82.20833333333333, 82.06700000000001, 80.67399999999999, 81.93599999999999, 82.45266666666666, 82.03033333333335, 81.88633333333334, 82.753, 82.15266666666666, 81.05866666666665, 82.63133333333333, 81.886, 82.28966666666666, 81.86733333333333, 82.28033333333333, 81.60266666666666, 81.56966666666668, 80.79966666666665, 82.43166666666666, 82.05266666666667, 82.43666666666668, 82.32866666666668, 82.52, 82.12766666666667, 82.24233333333335, 82.64766666666668, 81.93933333333334, 83.13633333333334, 81.89166666666667, 81.62000000000002, 82.53366666666666, 82.21433333333333, 82.06066666666666, 82.587, 82.497, 82.14466666666667, 81.61166666666668, 82.81133333333334, 82.769, 81.67033333333333, 82.39766666666667, 82.28299999999999, 81.84433333333332, 82.60633333333334, 82.50066666666666, 82.30266666666667, 81.98166666666665, 82.95299999999999, 82.65100000000001, 82.06733333333334, 82.339, 82.65366666666667, 82.01066666666665, 81.42233333333334, 81.72800000000001, 83.04766666666667, 80.00600000000001, 82.33733333333333, 81.849, 82.05833333333334, 81.77733333333335, 82.47066666666667, 82.00033333333334, 82.07199999999999, 82.18133333333334, 81.53633333333333, 80.95833333333333, 82.32600000000001, 82.27833333333334, 82.54466666666667, 81.82233333333333, 82.001, 81.64666666666666, 82.208, 81.962, 82.35866666666666, 82.24933333333334, 82.80433333333333, 82.11033333333333, 82.65833333333333, 81.73633333333333, 82.15066666666667, 82.62766666666667, 82.19666666666666, 81.68633333333334, 82.78, 82.42766666666667, 82.382, 81.03633333333333, 82.14066666666666, 81.76866666666665, 82.26066666666665, 81.22133333333335, 82.40033333333334, 81.93033333333332, 81.31700000000001, 82.85300000000001, 81.73266666666665, 82.20533333333333, 82.48033333333333, 82.15, 82.48700000000001, 82.514, 82.40833333333333, 82.117, 81.81966666666668, 82.45866666666667, 81.44466666666668, 82.68633333333334, 81.54166666666667, 82.37233333333333, 82.49199999999999, 82.092, 82.44766666666668, 81.975, 82.81166666666668, 81.77600000000001, 82.71666666666667, 82.40966666666667, 82.75933333333334, 81.81300000000002, 82.23566666666667, 82.81466666666667, 81.96433333333334, 82.68066666666667, 81.36399999999999, 82.01766666666667, 82.39233333333335, 82.48933333333335, 82.75800000000002, 82.14166666666667, 81.91933333333333, 82.78099999999999, 81.40333333333334, 82.71366666666667, 82.42133333333332, 82.91633333333333, 81.81666666666666, 82.76433333333334, 81.95333333333333, 82.55266666666667, 82.23266666666665, 81.40066666666667, 82.56133333333332, 82.886, 82.20266666666666, 82.48033333333335, 83.05300000000001, 81.65, 80.78066666666668, 81.77566666666667, 82.49966666666667, 82.09500000000001, 82.48033333333335, 81.92166666666667, 82.40266666666666, 82.486, 80.884, 82.325, 80.47800000000001, 82.00833333333334, 82.44666666666667, 82.72233333333334, 82.286, 81.52233333333334, 82.15833333333333, 82.28533333333334, 82.35900000000001, 82.21433333333333, 81.80300000000001, 82.09466666666665, 82.869, 82.21, 82.42233333333334, 81.84733333333334, 82.29666666666667, 81.68566666666666, 83.50533333333333, 81.69866666666667, 82.35566666666666, 82.14500000000001, 82.78933333333335, 82.31433333333334, 83.03433333333332, 82.61733333333335, 82.13633333333334, 81.63866666666667, 82.41666666666667, 82.93333333333334, 81.83966666666669, 81.65833333333333, 82.086, 82.325, 82.56, 82.09533333333334, 81.24233333333332, 80.83366666666667, 81.61666666666666, 82.27433333333333, 82.11500000000001, 82.88000000000001, 81.364, 82.4, 82.136, 81.528, 82.84466666666667, 80.93733333333333, 81.25, 82.63566666666665, 81.89200000000001, 82.35866666666666, 82.46433333333333, 81.764, 82.544, 82.292, 81.94466666666668, 81.56666666666666, 81.80300000000001, 82.11733333333333, 82.92266666666666, 82.41166666666668, 82.33166666666668, 82.38033333333333, 82.77566666666667, 82.51933333333334, 81.87533333333333, 81.99499999999999, 81.989, 82.609, 82.46366666666667, 82.414, 82.551, 82.30633333333334, 82.00833333333331, 81.99733333333333, 82.43533333333333, 81.773, 82.24166666666666, 81.70833333333333, 81.897, 81.56633333333333, 82.13066666666667, 81.64166666666667, 82.01766666666667, 81.5, 81.41800000000002, 81.50033333333334, 82.231, 82.26700000000001, 81.90333333333334, 82.6793333333333, 81.48566666666667, 81.77133333333333, 82.58633333333334, 81.71266666666666, 82.08633333333334, 82.284, 81.69466666666668, 81.99933333333333, 82.136, 81.936, 82.09233333333333, 81.74166666666666, 82.50766666666665, 82.20866666666667, 81.47266666666665, 82.392, 82.089, 81.81633333333335, 82.675, 81.76066666666665, 82.35066666666668, 82.37433333333334, 81.89466666666667, 82.57766666666666, 82.61066666666667, 82.036, 82.44966666666666, 82.81400000000001, 81.876, 81.63833333333332, 81.63866666666667, 82.80600000000001, 81.87766666666667, 82.11633333333333, 81.631, 82.01366666666667, 81.52866666666667, 80.81066666666666, 81.893, 81.66433333333333, 82.585, 82.21133333333334, 81.56666666666666, 81.91333333333334, 82.125, 81.798, 81.16466666666669, 82.38866666666667, 82.74766666666666, 82.26366666666667, 81.78400000000002, 81.56366666666666, 81.53466666666667, 81.62533333333333, 82.22233333333334, 82.13100000000001, 82.63133333333333, 81.192, 81.614, 82.08666666666666, 81.68333333333334, 81.52933333333333, 82.04166666666667, 82.26066666666665, 82.07300000000001, 82.47033333333334, 82.22833333333334, 81.694, 82.67833333333334, 82.10600000000001, 81.90566666666668, 80.79466666666667, 82.136, 81.79133333333333, 81.08933333333334, 82.139, 81.86999999999999, 81.03366666666668, 81.94466666666668, 81.82199999999999, 81.46666666666667, 82.18900000000001, 82.15533333333333, 81.50966666666666, 82.586, 81.84133333333332, 82.84433333333332, 81.46033333333334, 81.81933333333333, 82.23633333333332, 81.94099999999999, 81.59166666666667, 82.01066666666667, 80.96966666666667, 82.29166666666667, 82.43033333333332, 81.82833333333335, 82.66466666666666, 82.39500000000001, 81.67533333333334, 82.03333333333333, 82.31433333333334, 82.369, 82.22533333333332, 83.23933333333333, 82.02, 82.15533333333333, 82.165, 82.32533333333335, 81.94433333333333, 82.89433333333334, 82.61333333333333, 81.46666666666665, 82.378, 82.747, 82.39166666666667, 82.653, 82.40833333333333, 82.406, 81.64433333333334, 82.03099999999999, 81.72999999999999, 82.24766666666667, 82.40366666666667, 82.15100000000001, 82.501, 82.01666666666667, 82.87599999999999, 81.411, 80.95633333333335, 81.22766666666666, 82.4, 81.36133333333333, 81.49733333333333, 82.595, 82.17466666666665, 81.67766666666667, 81.792, 81.41900000000001, 82.40333333333334, 82.44699999999999, 82.35566666666666, 81.725, 81.88633333333334, 82.62033333333333, 82.39166666666667, 82.80933333333334, 82.03733333333335, 82.45566666666667, 80.778, 81.56966666666668, 82.583, 82.253, 82.11466666666666, 82.76333333333334, 82.128, 82.18299999999999, 81.992, 82.812, 81.60366666666667, 82.56366666666666, 82.36166666666668, 81.99000000000001, 81.92266666666666, 82.79233333333333, 82.00266666666667, 82.15, 81.85600000000001, 82.28866666666667, 82.39466666666667, 82.30066666666667, 82.11766666666668, 81.66666666666667, 81.77766666666666, 81.813, 81.445, 82.275, 82.99499999999999, 82.47200000000001, 82.65533333333333, 81.40066666666668, 81.90100000000001, 82.19466666666668, 82.40033333333332, 82.56700000000001, 81.47800000000001, 82.76066666666665, 82.80566666666667, 82.75166666666668, 82.25866666666666, 82.80566666666667, 82.438, 81.72766666666666, 82.40666666666668, 81.84233333333333, 82.589, 80.18866666666666, 81.24133333333333, 81.76666666666667, 82.35866666666666, 82.383, 82.103, 82.29566666666668, 82.80166666666668, 82.41966666666666, 83.08366666666667, 82.46133333333334, 83.033, 82.44966666666667, 81.97800000000001, 82.94733333333333, 82.39433333333334, 82.82199999999999, 82.21700000000001, 81.73366666666668, 82.364, 82.219, 82.08666666666666, 82.76666666666667, 82.527, 81.70733333333332, 81.775, 82.403, 80.78933333333335, 82.21666666666667, 82.89166666666667, 81.94466666666668, 82.17533333333334, 82.26666666666667, 82.45333333333333, 81.60333333333332, 82.35233333333333, 82.09400000000001, 81.88866666666667, 82.06099999999999, 82.23433333333334, 82.72566666666667, 82.2, 82.602, 81.961, 81.55799999999999, 82.14733333333334, 81.31400000000001, 81.88266666666667, 82.94466666666668, 81.88933333333334, 82.88633333333334, 82.47033333333334, 82.63366666666667, 81.26433333333334, 81.70866666666666, 82.37233333333333, 82.14800000000001, 82.60566666666666, 82.55566666666667, 82.91433333333333, 81.94000000000001, 82.40566666666668, 82.30533333333334, 82.00633333333333, 81.839, 82.15333333333335, 82.32533333333335, 82.08333333333333, 80.99733333333333, 81.2, 82.17966666666666, 81.57733333333333, 81.68866666666666, 82.13033333333333, 82.53833333333333, 81.92833333333333, 82.27666666666666, 82.358, 82.39466666666667, 82.83633333333334, 81.88066666666667, 82.09666666666666, 81.705, 81.78433333333334, 82.17133333333332, 83.27866666666667, 81.78999999999999, 81.91966666666667, 81.792, 81.87599999999999, 82.45533333333333, 81.88733333333334, 83.36733333333333, 82.18666666666668, 82.46366666666667, 81.881, 82.59899999999999, 82.55199999999999, 81.93900000000001, 82.31033333333332, 82.32600000000001, 82.27233333333334, 82.80033333333334, 82.10900000000001, 81.62833333333334, 82.73133333333334, 81.84733333333334, 82.35300000000001, 82.89699999999999, 82.58333333333333, 81.45833333333333, 82.14466666666667, 81.72733333333332, 82.20933333333333, 82.93066666666667, 81.62766666666667, 82.10300000000001, 82.14366666666666, 83.055, 82.65333333333334, 82.13333333333334, 82.12866666666666, 81.68599999999999, 82.35266666666666, 81.73333333333333, 82.16133333333333, 81.84966666666666, 81.70566666666667, 82.18900000000001, 82.20666666666668, 82.17433333333334, 82.16333333333333, 82.00566666666667, 82.534, 82.12266666666667, 82.43333333333334, 82.02466666666666, 82.09733333333334, 81.94099999999999, 80.93033333333332, 82.11966666666666, 81.97533333333334, 82.51133333333333, 83.1, 82.33366666666667, 82.17633333333333, 81.64766666666667, 82.26299999999999, 82.18333333333334, 81.91066666666666, 81.83833333333334, 81.62533333333334, 82.25299999999999, 81.78933333333333, 81.99766666666666, 81.97800000000001, 81.60833333333333, 81.113, 81.378, 82.18733333333333, 83.49466666666667, 82.20833333333333, 81.73166666666667, 82.61500000000001, 82.32266666666666, 82.82566666666666, 81.52233333333334, 82.21933333333332, 80.78066666666668, 82.34966666666666, 81.19699999999999, 81.90533333333333, 82.68633333333332, 82.76666666666665, 82.14466666666665, 82.625, 82.76366666666667, 81.88466666666667, 82.68666666666667, 82.167, 81.72800000000001, 83.048, 82.92566666666669, 81.98966666666668, 82.56066666666668, 82.13033333333333, 82.37266666666666, 82.03966666666666, 82.54733333333334, 81.583, 81.93633333333334, 81.93566666666666, 81.91366666666666, 82.48966666666668, 82.95199999999998, 82.32133333333333, 82.07833333333335, 81.75333333333334, 82.249, 82.164, 82.20333333333335, 80.40233333333332, 81.45533333333333, 82.68900000000001, 82.15900000000002, 81.51700000000001, 81.13666666666667, 81.964, 81.94466666666668, 81.73299999999999, 81.94233333333334, 81.59966666666666, 82.63366666666666, 81.71166666666667, 82.70599999999999, 81.15, 82.42233333333334, 82.90366666666667]\n"
     ]
    }
   ],
   "source": [
    "mean_cup_points_1000 = []\n",
    "for i in range(1000):\n",
    "    mean_cup_points_1000.append(\n",
    "    coffee_ratings.sample(n=30)['total_cup_points'].mean())\n",
    "print(mean_cup_points_1000)"
   ]
  },
  {
   "cell_type": "markdown",
   "id": "8dc7cfbc",
   "metadata": {},
   "source": [
    "## Distribution of sample means for size 30"
   ]
  },
  {
   "cell_type": "code",
   "execution_count": 27,
   "id": "3f6a5212",
   "metadata": {},
   "outputs": [
    {
     "data": {
      "image/png": "[encoded data removed]",
      "text/plain": [
       "<Figure size 432x288 with 1 Axes>"
      ]
     },
     "metadata": {
      "needs_background": "light"
     },
     "output_type": "display_data"
    }
   ],
   "source": [
    "import matplotlib.pyplot as plt\n",
    "plt.hist(mean_cup_points_1000, bins=30)\n",
    "plt.show()"
   ]
  },
  {
   "cell_type": "markdown",
   "id": "1ad30f02",
   "metadata": {},
   "source": [
    "A sampling distribution is a distribution of replicates of point estimates."
   ]
  },
  {
   "cell_type": "markdown",
   "id": "61bf8913",
   "metadata": {},
   "source": [
    "## Different sample sizes"
   ]
  },
  {
   "cell_type": "code",
   "execution_count": 31,
   "id": "aea4155d",
   "metadata": {},
   "outputs": [
    {
     "data": {
      "image/png": "[encoded data removed]",
      "text/plain": [
       "<Figure size 432x288 with 1 Axes>"
      ]
     },
     "metadata": {
      "needs_background": "light"
     },
     "output_type": "display_data"
    }
   ],
   "source": [
    "# sample size 6\n",
    "mean_cup_points_1000 = []\n",
    "for i in range(1000):\n",
    "    mean_cup_points_1000.append(\n",
    "    coffee_ratings.sample(n=6)['total_cup_points'].mean())\n",
    "\n",
    "\n",
    "plt.hist(mean_cup_points_1000, bins=30)\n",
    "plt.show()"
   ]
  },
  {
   "cell_type": "code",
   "execution_count": 33,
   "id": "3aaefaa8",
   "metadata": {},
   "outputs": [
    {
     "data": {
      "image/png": "[encoded data removed]",
      "text/plain": [
       "<Figure size 432x288 with 1 Axes>"
      ]
     },
     "metadata": {
      "needs_background": "light"
     },
     "output_type": "display_data"
    }
   ],
   "source": [
    "# sample size 150\n",
    "mean_cup_points_1000 = []\n",
    "for i in range(1000):\n",
    "    mean_cup_points_1000.append(\n",
    "    coffee_ratings.sample(n=150)['total_cup_points'].mean())\n",
    "\n",
    "\n",
    "plt.hist(mean_cup_points_1000, bins=30)\n",
    "plt.show()"
   ]
  },
  {
   "cell_type": "markdown",
   "id": "2b33f156",
   "metadata": {},
   "source": [
    "## Replicating samples\n",
    "\n",
    "When you calculate a point estimate such as a sample mean, the value you calculate depends on the rows that were included in the sample. That means that there is some randomness in the answer. In order to quantify the variation caused by this randomness, you can create many samples and calculate the sample mean (or another statistic) for each sample."
   ]
  },
  {
   "cell_type": "code",
   "execution_count": 30,
   "id": "245a53d6",
   "metadata": {},
   "outputs": [
    {
     "data": {
      "image/png": "[encoded data removed]",
      "text/plain": [
       "<Figure size 432x288 with 1 Axes>"
      ]
     },
     "metadata": {
      "needs_background": "light"
     },
     "output_type": "display_data"
    }
   ],
   "source": [
    "# Create an empty list\n",
    "mean_attritions = []\n",
    "# Loop 500 times to create 500 sample means\n",
    "for i in range(500):\n",
    "\tmean_attritions.append(\n",
    "    \tattrition_pop.sample(n=60)['Attrition'].mean()\n",
    "\t)\n",
    "\n",
    "# Create a histogram of the 500 sample means\n",
    "plt.hist(mean_attritions, bins=16)\n",
    "plt.show()"
   ]
  },
  {
   "cell_type": "markdown",
   "id": "19ea2829",
   "metadata": {},
   "source": [
    "# Approximate sampling distributions"
   ]
  },
  {
   "cell_type": "markdown",
   "id": "a5990e14",
   "metadata": {},
   "source": [
    "## 4 dice"
   ]
  },
  {
   "cell_type": "code",
   "execution_count": 45,
   "id": "fc0cbde6",
   "metadata": {},
   "outputs": [],
   "source": [
    "# expand_grind é nativa do R, mas no python nos tem que criar essa função \n",
    "import itertools \n",
    "def expand_grid(data_dict):\n",
    "    rows = itertools.product(*data_dict.values())\n",
    "    return pd.DataFrame.from_records(rows, columns=data_dict.keys())\n"
   ]
  },
  {
   "cell_type": "code",
   "execution_count": 47,
   "id": "651e044a",
   "metadata": {},
   "outputs": [
    {
     "name": "stdout",
     "output_type": "stream",
     "text": [
      "      die1  die2  die3  die4\n",
      "0        1     1     1     1\n",
      "1        1     1     1     2\n",
      "2        1     1     1     3\n",
      "3        1     1     1     4\n",
      "4        1     1     1     5\n",
      "...    ...   ...   ...   ...\n",
      "1291     6     6     6     2\n",
      "1292     6     6     6     3\n",
      "1293     6     6     6     4\n",
      "1294     6     6     6     5\n",
      "1295     6     6     6     6\n",
      "\n",
      "[1296 rows x 4 columns]\n"
     ]
    }
   ],
   "source": [
    "#dice seria dados, tipo 4 dados \n",
    "dice = expand_grid(\n",
    "    {'die1': [1, 2, 3, 4, 5, 6],\n",
    "    'die2': [1, 2, 3, 4, 5, 6],\n",
    "    'die3': [1, 2, 3, 4, 5, 6],\n",
    "    'die4': [1, 2, 3, 4, 5, 6]\n",
    "    }\n",
    ")\n",
    "print(dice)# imprimindo toda possibilidade de 4 dados "
   ]
  },
  {
   "cell_type": "markdown",
   "id": "f7b2ba70",
   "metadata": {},
   "source": [
    "## Mean roll"
   ]
  },
  {
   "cell_type": "code",
   "execution_count": 48,
   "id": "4c1d552b",
   "metadata": {},
   "outputs": [
    {
     "name": "stdout",
     "output_type": "stream",
     "text": [
      "      die1  die2  die3  die4  mean_roll\n",
      "0        1     1     1     1       1.00\n",
      "1        1     1     1     2       1.25\n",
      "2        1     1     1     3       1.50\n",
      "3        1     1     1     4       1.75\n",
      "4        1     1     1     5       2.00\n",
      "...    ...   ...   ...   ...        ...\n",
      "1291     6     6     6     2       5.00\n",
      "1292     6     6     6     3       5.25\n",
      "1293     6     6     6     4       5.50\n",
      "1294     6     6     6     5       5.75\n",
      "1295     6     6     6     6       6.00\n",
      "\n",
      "[1296 rows x 5 columns]\n"
     ]
    }
   ],
   "source": [
    "# seria a media do resultado \n",
    "dice['mean_roll'] = (dice['die1'] + dice['die2'] + dice['die3'] + dice['die4']) / 4\n",
    "print(dice)"
   ]
  },
  {
   "cell_type": "markdown",
   "id": "fe867505",
   "metadata": {},
   "source": [
    "## Exact sampling distribution"
   ]
  },
  {
   "cell_type": "code",
   "execution_count": 52,
   "id": "015be8dc",
   "metadata": {},
   "outputs": [
    {
     "data": {
      "text/plain": [
       "<AxesSubplot:>"
      ]
     },
     "execution_count": 52,
     "metadata": {},
     "output_type": "execute_result"
    },
    {
     "data": {
      "image/png": "[encoded data removed]",
      "text/plain": [
       "<Figure size 432x288 with 1 Axes>"
      ]
     },
     "metadata": {
      "needs_background": "light"
     },
     "output_type": "display_data"
    }
   ],
   "source": [
    "dice['mean_roll'] = dice['mean_roll'].astype('category')\n",
    "dice['mean_roll'].value_counts(sort=False).plot(kind=\"bar\")"
   ]
  },
  {
   "cell_type": "markdown",
   "id": "e98c3cb7",
   "metadata": {},
   "source": [
    "## The number of outcomes increases fast"
   ]
  },
  {
   "cell_type": "code",
   "execution_count": 51,
   "id": "c031d9c4",
   "metadata": {},
   "outputs": [
    {
     "data": {
      "image/png": "[encoded data removed]",
      "text/plain": [
       "<Figure size 432x288 with 1 Axes>"
      ]
     },
     "metadata": {
      "needs_background": "light"
     },
     "output_type": "display_data"
    }
   ],
   "source": [
    "n_dice = list(range(1, 101))\n",
    "n_outcomes = []\n",
    "for n in n_dice:\n",
    "    n_outcomes.append(6**n)\n",
    "    \n",
    "outcomes = pd.DataFrame({\"n_dice\": n_dice, \"n_outcomes\": n_outcomes})\n",
    "\n",
    "outcomes.plot(x=\"n_dice\", y=\"n_outcomes\", kind=\"scatter\")\n",
    "plt.show()"
   ]
  },
  {
   "cell_type": "markdown",
   "id": "587daa03",
   "metadata": {},
   "source": [
    "## Simulating the mean of four dice rolls\n"
   ]
  },
  {
   "cell_type": "code",
   "execution_count": 53,
   "id": "744a88de",
   "metadata": {},
   "outputs": [
    {
     "name": "stdout",
     "output_type": "stream",
     "text": [
      "[2.75, 4.0, 3.25, 4.5, 2.5, 2.0, 2.0, 2.5, 4.25, 4.25, 3.0, 4.25, 3.5, 4.25, 3.5, 2.75, 4.25, 3.75, 3.5, 4.25, 3.0, 4.0, 5.25, 3.5, 4.25, 3.5, 5.0, 2.5, 1.5, 3.0, 3.5, 3.25, 4.0, 3.0, 3.75, 2.25, 4.5, 4.75, 3.5, 4.75, 4.0, 4.75, 3.25, 4.0, 3.75, 4.25, 2.25, 4.5, 4.0, 4.5, 3.75, 3.5, 3.5, 3.75, 4.5, 4.25, 2.75, 2.5, 2.75, 4.25, 4.0, 2.75, 2.5, 3.75, 4.0, 3.0, 4.75, 3.75, 2.0, 4.75, 2.5, 3.75, 4.25, 3.0, 3.0, 3.0, 3.25, 4.0, 4.25, 4.0, 3.5, 5.25, 4.25, 3.25, 4.0, 1.75, 5.25, 5.25, 2.25, 4.25, 3.25, 4.5, 3.5, 4.5, 4.75, 2.75, 3.75, 4.5, 2.25, 2.25, 2.75, 2.25, 1.75, 3.0, 4.0, 3.75, 3.75, 2.25, 3.5, 4.0, 4.25, 3.5, 4.25, 3.75, 5.0, 2.75, 2.5, 3.25, 4.5, 3.5, 5.75, 1.5, 5.25, 4.0, 2.75, 2.75, 4.25, 3.0, 4.0, 3.0, 4.25, 3.0, 2.75, 5.5, 4.25, 2.75, 4.75, 3.0, 1.75, 2.5, 3.5, 4.0, 2.25, 2.75, 4.0, 3.75, 3.5, 3.5, 2.5, 3.0, 3.75, 2.75, 3.5, 2.5, 2.5, 3.5, 3.25, 4.25, 1.75, 3.5, 4.75, 2.25, 4.5, 3.5, 3.5, 3.0, 4.5, 3.0, 3.5, 4.5, 4.5, 4.0, 2.25, 2.25, 2.25, 3.0, 4.0, 2.5, 1.25, 3.0, 2.75, 4.25, 5.25, 3.0, 2.5, 2.75, 3.5, 2.25, 3.75, 4.0, 4.5, 3.75, 4.0, 4.0, 3.0, 1.5, 4.75, 3.75, 2.5, 3.75, 3.5, 2.0, 4.75, 4.25, 2.75, 3.5, 2.25, 4.0, 4.25, 3.25, 4.75, 4.25, 5.0, 4.25, 3.25, 4.25, 5.0, 5.5, 2.5, 2.5, 3.25, 3.75, 5.0, 3.0, 2.5, 4.25, 2.25, 4.75, 4.0, 2.75, 4.0, 3.75, 3.5, 4.5, 3.75, 4.0, 3.75, 2.75, 3.75, 4.75, 2.25, 4.0, 3.75, 2.5, 2.75, 3.75, 3.5, 3.5, 3.0, 2.0, 5.0, 4.0, 2.25, 4.75, 2.25, 2.75, 4.0, 3.5, 3.5, 4.25, 4.0, 3.25, 3.75, 3.25, 3.5, 2.25, 2.5, 4.5, 2.75, 4.5, 3.75, 3.0, 3.5, 2.5, 3.75, 5.25, 3.25, 2.75, 3.25, 3.0, 3.25, 2.75, 3.25, 4.5, 3.5, 2.25, 2.75, 3.0, 4.0, 2.25, 2.0, 3.75, 5.5, 2.25, 4.25, 3.5, 3.5, 3.75, 5.0, 3.5, 1.5, 2.25, 2.75, 3.75, 4.25, 3.75, 4.0, 4.0, 4.0, 4.5, 2.0, 4.75, 3.5, 3.75, 2.75, 3.25, 5.25, 2.75, 2.75, 2.25, 2.5, 3.75, 2.75, 3.75, 2.75, 2.75, 2.75, 5.0, 3.25, 3.0, 4.0, 4.5, 3.25, 3.0, 2.75, 3.25, 5.5, 2.0, 2.25, 1.25, 5.0, 3.75, 3.75, 3.25, 4.0, 4.75, 2.75, 4.25, 4.0, 3.75, 3.25, 3.75, 3.5, 4.75, 3.25, 4.5, 4.25, 4.75, 3.25, 4.0, 3.25, 3.5, 4.25, 3.75, 3.75, 3.25, 2.25, 4.0, 4.25, 3.5, 2.25, 2.5, 2.75, 4.0, 4.25, 5.0, 3.5, 4.75, 4.0, 2.75, 4.0, 4.0, 3.0, 3.5, 3.75, 3.5, 4.25, 4.75, 4.0, 4.5, 2.75, 5.5, 4.25, 1.5, 3.25, 2.0, 4.0, 3.5, 4.0, 3.0, 3.5, 3.25, 2.75, 3.0, 3.75, 3.0, 4.25, 3.5, 2.25, 5.25, 3.0, 3.75, 3.25, 5.25, 5.5, 4.75, 4.0, 3.75, 3.25, 3.75, 2.5, 2.75, 1.5, 3.0, 3.5, 2.5, 4.25, 1.5, 3.75, 3.25, 4.25, 3.0, 3.75, 4.0, 1.5, 3.0, 4.0, 4.5, 3.75, 5.0, 4.25, 2.25, 1.75, 3.0, 2.75, 3.5, 3.0, 3.0, 4.75, 4.25, 3.25, 3.25, 3.25, 4.25, 2.5, 3.75, 3.5, 3.5, 3.0, 2.5, 3.25, 2.75, 4.0, 4.75, 2.75, 3.75, 4.0, 5.0, 4.0, 4.0, 3.0, 4.75, 3.0, 4.0, 4.0, 4.5, 3.0, 2.25, 4.25, 4.25, 2.0, 2.5, 3.75, 5.0, 1.75, 4.5, 3.75, 2.75, 3.75, 3.5, 5.0, 3.5, 3.5, 4.5, 2.5, 5.0, 4.25, 1.75, 1.75, 4.0, 5.0, 3.75, 3.5, 4.0, 3.75, 2.75, 2.25, 4.25, 3.0, 3.25, 3.75, 3.0, 3.75, 4.5, 4.0, 4.75, 4.25, 2.75, 3.0, 4.5, 4.0, 3.25, 3.5, 3.25, 2.25, 3.25, 4.75, 2.5, 4.25, 3.25, 4.0, 3.75, 2.75, 2.75, 2.75, 5.0, 2.5, 3.25, 3.0, 2.5, 1.75, 5.0, 3.75, 4.75, 4.0, 4.75, 3.0, 4.0, 1.5, 4.25, 4.25, 3.25, 3.25, 3.5, 4.5, 3.5, 3.75, 3.0, 2.75, 4.0, 3.75, 4.5, 2.25, 2.75, 4.25, 4.5, 4.5, 3.25, 4.75, 3.5, 5.0, 2.25, 4.75, 3.75, 3.5, 2.75, 2.5, 5.0, 2.75, 4.5, 3.5, 1.75, 4.0, 3.0, 4.25, 3.25, 2.75, 4.25, 4.25, 4.75, 4.25, 3.75, 2.75, 4.0, 2.0, 5.0, 3.0, 4.0, 4.75, 4.25, 3.25, 3.75, 1.75, 4.5, 1.5, 2.5, 2.25, 2.75, 3.5, 3.25, 4.25, 3.25, 3.5, 3.5, 2.5, 4.5, 3.75, 4.75, 4.5, 4.0, 3.25, 3.5, 3.5, 1.75, 4.75, 1.75, 4.5, 5.0, 2.75, 3.5, 4.75, 3.75, 3.25, 3.5, 4.25, 4.0, 4.75, 3.25, 2.5, 4.75, 3.0, 3.0, 2.25, 4.25, 3.5, 2.5, 3.75, 3.25, 3.25, 5.0, 3.75, 3.25, 2.25, 4.0, 4.25, 2.5, 2.75, 3.5, 2.75, 4.75, 2.5, 2.0, 2.75, 3.0, 3.0, 3.75, 1.75, 2.0, 3.5, 3.0, 2.75, 4.0, 4.0, 5.5, 3.25, 4.0, 3.5, 5.0, 3.5, 4.5, 3.75, 4.75, 5.25, 3.25, 3.5, 2.5, 4.5, 2.25, 4.25, 3.0, 2.0, 2.75, 3.5, 5.0, 3.0, 3.25, 5.25, 2.0, 4.0, 4.75, 4.75, 3.5, 3.5, 2.25, 3.25, 5.0, 3.25, 5.25, 4.0, 4.5, 3.25, 4.0, 4.0, 3.75, 4.25, 3.25, 1.75, 2.25, 3.5, 5.0, 3.0, 3.5, 2.5, 2.5, 2.0, 3.5, 3.0, 3.5, 1.75, 4.25, 5.25, 1.25, 2.25, 3.75, 3.5, 1.75, 3.75, 3.25, 3.75, 2.75, 3.0, 4.0, 4.25, 3.75, 3.75, 1.75, 3.0, 4.25, 1.75, 4.5, 4.25, 4.75, 4.0, 4.25, 3.75, 2.5, 3.25, 3.25, 3.5, 4.5, 4.25, 4.75, 2.75, 3.0, 3.75, 3.25, 3.0, 3.0, 3.5, 2.5, 3.75, 2.25, 4.0, 3.25, 3.5, 4.5, 3.75, 4.75, 1.75, 4.75, 3.0, 4.5, 4.0, 3.0, 4.0, 2.75, 3.75, 2.5, 3.0, 3.5, 4.75, 3.75, 2.75, 2.75, 3.25, 3.5, 2.75, 2.5, 3.75, 2.75, 2.75, 2.5, 4.5, 2.5, 4.0, 3.25, 4.0, 3.75, 3.25, 2.25, 2.5, 4.0, 3.75, 2.0, 4.25, 3.75, 3.25, 3.75, 3.0, 3.5, 3.75, 2.25, 3.0, 4.75, 3.25, 4.5, 2.75, 2.0, 3.25, 4.5, 4.75, 4.5, 4.75, 2.5, 3.0, 2.75, 2.5, 4.75, 3.0, 2.75, 2.75, 4.0, 3.0, 4.5, 2.75, 3.25, 2.25, 2.75, 4.25, 3.0, 4.25, 5.0, 3.5, 5.5, 4.25, 3.75, 5.0, 3.25, 3.5, 3.75, 3.0, 3.5, 4.5, 4.75, 3.25, 4.25, 4.25, 4.0, 3.25, 2.5, 4.75, 3.25, 5.25, 3.25, 3.5, 4.25, 3.75, 1.75, 3.75, 2.25, 3.25, 3.5, 3.75, 4.5, 3.0, 3.25, 3.0, 4.0, 3.25, 3.25, 2.5, 4.0, 4.25, 4.5, 3.25, 3.75, 3.0, 4.0, 2.5, 4.0, 4.5, 2.0, 3.25, 1.0, 3.75, 3.5, 4.5, 1.5, 4.0, 4.0, 3.75, 3.0, 3.25, 3.25, 2.5, 4.0, 4.5, 2.25, 3.5, 2.75, 4.0, 3.5, 3.5, 3.5, 5.75, 2.0, 2.0, 4.0, 4.25, 4.0, 5.25, 3.25, 3.5, 4.75, 3.5, 5.0, 3.5, 3.75, 1.75, 4.75, 2.0, 2.5, 3.25, 4.0, 3.0, 3.5, 3.0, 4.75, 5.25, 3.75, 3.5, 4.0, 2.5, 3.75, 5.0, 2.5, 3.25, 4.5, 3.25, 2.25, 2.5, 2.5, 3.25, 5.0, 2.25, 2.25, 1.75, 2.75, 3.75, 3.25, 3.75, 2.5, 3.5, 3.5, 4.75, 3.75, 1.75, 2.75, 3.75, 3.0, 4.75, 3.5, 3.5, 3.25, 1.75, 3.5, 4.0, 4.75, 3.5, 3.75, 3.75, 3.75, 5.0, 1.75, 3.25, 3.75, 3.25, 2.5, 4.5, 4.0]\n"
     ]
    }
   ],
   "source": [
    "import numpy as np\n",
    "sample_means_1000 = []\n",
    "for i in range(1000):\n",
    "    sample_means_1000.append(\n",
    "    np.random.choice(list(range(1, 7)), size=4, replace=True).mean())\n",
    "print(sample_means_1000)"
   ]
  },
  {
   "cell_type": "markdown",
   "id": "96301690",
   "metadata": {},
   "source": [
    "## Approximate sampling distribution"
   ]
  },
  {
   "cell_type": "code",
   "execution_count": 54,
   "id": "91a44377",
   "metadata": {},
   "outputs": [
    {
     "data": {
      "text/plain": [
       "(array([  1.,   3.,  11.,  26.,  22.,  50.,  61.,  79.,  81.,  96., 109.,\n",
       "        108., 100.,  78.,  57.,  58.,  33.,  17.,   8.,   2.]),\n",
       " array([1.    , 1.2375, 1.475 , 1.7125, 1.95  , 2.1875, 2.425 , 2.6625,\n",
       "        2.9   , 3.1375, 3.375 , 3.6125, 3.85  , 4.0875, 4.325 , 4.5625,\n",
       "        4.8   , 5.0375, 5.275 , 5.5125, 5.75  ]),\n",
       " <BarContainer object of 20 artists>)"
      ]
     },
     "execution_count": 54,
     "metadata": {},
     "output_type": "execute_result"
    },
    {
     "data": {
      "image/png": "[encoded data removed]",
      "text/plain": [
       "<Figure size 432x288 with 1 Axes>"
      ]
     },
     "metadata": {
      "needs_background": "light"
     },
     "output_type": "display_data"
    }
   ],
   "source": [
    "plt.hist(sample_means_1000, bins=20)"
   ]
  },
  {
   "cell_type": "markdown",
   "id": "8f433ef0",
   "metadata": {},
   "source": [
    "## Exact sampling distribution\n",
    "\n",
    "To quantify how the point estimate (sample statistic) you are interested in varies, you need to know all the possible values it can take and how often. That is, you need to know its distribution.\n",
    "\n",
    "The distribution of a sample statistic is called the sampling distribution. When we can calculate this exactly, rather than using an approximation, it is known as the exact sampling distribution.\n",
    "\n",
    "Let's take another look at the sampling distribution of dice rolls. This time, we'll look at five eight-sided dice. (These have the numbers one to eight.)\n",
    "\n",
    "8 sided die\n",
    "\n",
    "pandas, numpy, and matplotlib.pyplot are loaded with their usual aliases. The expand_grid() function is also available, which expects a dictionary of key-value pairs as its argument. The definition of the expand_grid() function is provided in the pandas documentation.\n",
    "https://pandas.pydata.org/pandas-docs/version/0.17.1/cookbook.html#creating-example-data"
   ]
  },
  {
   "cell_type": "code",
   "execution_count": 55,
   "id": "c1964535",
   "metadata": {},
   "outputs": [
    {
     "data": {
      "image/png": "[encoded data removed]",
      "text/plain": [
       "<Figure size 432x288 with 1 Axes>"
      ]
     },
     "metadata": {
      "needs_background": "light"
     },
     "output_type": "display_data"
    }
   ],
   "source": [
    "# Expand a grid representing 5 8-sided dice\n",
    "dice = expand_grid(\n",
    "  {'die1': [1, 2, 3, 4, 5, 6, 7, 8],\n",
    "   'die2': [1, 2, 3, 4, 5, 6, 7, 8],\n",
    "   'die3': [1, 2, 3, 4, 5, 6, 7, 8],\n",
    "   'die4': [1, 2, 3, 4, 5, 6, 7, 8],\n",
    "   'die5': [1, 2, 3, 4, 5, 6, 7, 8]\n",
    "  })\n",
    "\n",
    "# Add a column of mean rolls and convert to a categorical\n",
    "dice['mean_roll'] = (dice['die1'] + dice['die2'] + \n",
    "                     dice['die3'] + dice['die4'] + \n",
    "                     dice['die5']) / 5\n",
    "dice['mean_roll'] = dice['mean_roll'].astype('category')\n",
    "\n",
    "# Draw a bar plot of mean_roll\n",
    "dice['mean_roll'].value_counts(sort=False).plot(kind=\"bar\")\n",
    "plt.show()"
   ]
  },
  {
   "cell_type": "markdown",
   "id": "2e2bad1e",
   "metadata": {},
   "source": [
    "## Generating an approximate sampling distribution\n",
    "\n",
    "Calculating the exact sampling distribution is only possible in very simple situations. With just five eight-sided dice, the number of possible rolls is 8**5, which is over thirty thousand. When the dataset is more complicated, for example, where a variable has hundreds or thousands of categories, the number of possible outcomes becomes too difficult to compute exactly.\n",
    "\n",
    "In this situation, you can calculate an approximate sampling distribution by simulating the exact sampling distribution. That is, you can repeat a procedure over and over again to simulate both the sampling process and the sample statistic calculation process."
   ]
  },
  {
   "cell_type": "code",
   "execution_count": 56,
   "id": "811fcbd9",
   "metadata": {},
   "outputs": [
    {
     "data": {
      "image/png": "[encoded data removed]",
      "text/plain": [
       "<Figure size 432x288 with 1 Axes>"
      ]
     },
     "metadata": {
      "needs_background": "light"
     },
     "output_type": "display_data"
    }
   ],
   "source": [
    "# Replicate the sampling code 1000 times\n",
    "sample_means_1000 = []\n",
    "for i in range(1000):\n",
    "    sample_means_1000.append(\n",
    "  \t\tnp.random.choice(list(range(1, 9)), size=5, replace=True).mean()\n",
    "    )\n",
    "\n",
    "# Draw a histogram of sample_means_1000 with 20 bins\n",
    "plt.hist(sample_means_1000, bins=20)\n",
    "plt.show()"
   ]
  },
  {
   "cell_type": "markdown",
   "id": "28ea79fd",
   "metadata": {},
   "source": [
    "# Standard errors and the Central Limit Theorem"
   ]
  },
  {
   "cell_type": "markdown",
   "id": "56a5a99b",
   "metadata": {},
   "source": [
    "## Population & sampling distribution means\n",
    "\n",
    "One of the useful features of sampling distributions is that you can quantify them. Specifically, you can calculate summary statistics on them. Here, you'll look at the relationship between the mean of the sampling distribution and the population parameter's mean.\n",
    "\n",
    "Three sampling distributions are provided. For each, the employee attrition dataset was sampled using simple random sampling, then the mean attrition was calculated. This was done 1000 times to get a sampling distribution of mean attritions. One sampling distribution used a sample size of 5 for each replicate, one used 50, and one used 500."
   ]
  },
  {
   "cell_type": "code",
   "execution_count": 64,
   "id": "b4ce0344",
   "metadata": {},
   "outputs": [],
   "source": [
    "sampling_distribution_5 = []\n",
    "for i in range(1000):\n",
    "    sampling_distribution_5.append(\n",
    "    attrition_pop.sample(n=5)[\"Attrition\"].mean())\n",
    "\n",
    "sampling_distribution_50 = []\n",
    "for i in range(1000):\n",
    "    sampling_distribution_50.append(\n",
    "    attrition_pop.sample(n=50)[\"Attrition\"].mean())\n",
    "\n",
    "sampling_distribution_500 = []\n",
    "for i in range(1000):\n",
    "    sampling_distribution_500.append(\n",
    "    attrition_pop.sample(n=500)[\"Attrition\"].mean())"
   ]
  },
  {
   "cell_type": "code",
   "execution_count": 66,
   "id": "a6670865",
   "metadata": {},
   "outputs": [
    {
     "name": "stdout",
     "output_type": "stream",
     "text": [
      "0.16122448979591836\n",
      "0.1708\n",
      "0.16332000000000002\n",
      "0.160378\n"
     ]
    }
   ],
   "source": [
    "# Calculate the mean of the mean attritions for each sampling distribution\n",
    "mean_of_means_5 = np.mean(sampling_distribution_5)\n",
    "mean_of_means_50 = np.mean(sampling_distribution_50)\n",
    "mean_of_means_500 = np.mean(sampling_distribution_500)\n",
    "\n",
    "# Print the results\n",
    "print(attrition_pop[\"Attrition\"].mean())\n",
    "print(mean_of_means_5)\n",
    "print(mean_of_means_50)\n",
    "print(mean_of_means_500)"
   ]
  },
  {
   "cell_type": "markdown",
   "id": "83033e59",
   "metadata": {},
   "source": [
    "## Population & sampling distribution variation\n",
    "\n",
    "You just calculated the mean of the sampling distribution and saw how it is an estimate of the corresponding population parameter. Similarly, as a result of the central limit theorem, the standard deviation of the sampling distribution has an interesting relationship with the population parameter's standard deviation and the sample size."
   ]
  },
  {
   "cell_type": "code",
   "execution_count": 67,
   "id": "0c6d9ce7",
   "metadata": {},
   "outputs": [
    {
     "name": "stdout",
     "output_type": "stream",
     "text": [
      "0.17267651020673652\n",
      "0.052212103038507304\n",
      "0.013487291166984682\n"
     ]
    }
   ],
   "source": [
    "# Calculate the std. dev. of the mean attritions for each sampling distribution\n",
    "sd_of_means_5 = np.std(sampling_distribution_5, ddof=1)\n",
    "sd_of_means_50 = np.std(sampling_distribution_50, ddof=1)\n",
    "sd_of_means_500 = np.std(sampling_distribution_500, ddof=1)\n",
    "\n",
    "# Print the results\n",
    "print(sd_of_means_5)\n",
    "print(sd_of_means_50)\n",
    "print(sd_of_means_500)"
   ]
  },
  {
   "cell_type": "code",
   "execution_count": null,
   "id": "81a16c0e",
   "metadata": {},
   "outputs": [],
   "source": []
  }
 ],
 "metadata": {
  "kernelspec": {
   "display_name": "Python 3 (ipykernel)",
   "language": "python",
   "name": "python3"
  },
  "language_info": {
   "codemirror_mode": {
    "name": "ipython",
    "version": 3
   },
   "file_extension": ".py",
   "mimetype": "text/x-python",
   "name": "python",
   "nbconvert_exporter": "python",
   "pygments_lexer": "ipython3",
   "version": "3.10.12"
  }
 },
 "nbformat": 4,
 "nbformat_minor": 5
}
