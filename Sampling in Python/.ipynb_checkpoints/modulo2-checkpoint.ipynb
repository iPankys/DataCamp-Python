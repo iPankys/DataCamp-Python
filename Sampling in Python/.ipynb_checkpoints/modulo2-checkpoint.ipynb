{
 "cells": [
  {
   "cell_type": "markdown",
   "id": "e631d065",
   "metadata": {},
   "source": [
    "# Simple random and systematic sampling"
   ]
  },
  {
   "cell_type": "code",
   "execution_count": 21,
   "id": "73b08e55",
   "metadata": {},
   "outputs": [],
   "source": [
    "import pandas as pd\n",
    "import matplotlib.pyplot as plt\n",
    "import numpy as np\n",
    "import random"
   ]
  },
  {
   "cell_type": "code",
   "execution_count": 33,
   "id": "04885d09",
   "metadata": {},
   "outputs": [
    {
     "data": {
      "text/plain": [
       "(1470, 31)"
      ]
     },
     "execution_count": 33,
     "metadata": {},
     "output_type": "execute_result"
    }
   ],
   "source": [
    "attrition_pop = pd.read_feather('../datasets/attrition.feather')\n",
    "attrition_pop.head()"
   ]
  },
  {
   "cell_type": "markdown",
   "id": "2852b76e",
   "metadata": {},
   "source": [
    "## Simple random sampling\n",
    "\n",
    "The simplest method of sampling a population is the one you've seen already. It is known as simple random sampling (sometimes abbreviated to \"SRS\"), and involves picking rows at random, one at a time, where each row has the same chance of being picked as any other.\n",
    "\n",
    "In this chapter, you'll apply sampling methods to a synthetic (fictional) employee attrition dataset from IBM, where \"attrition\" in this context means leaving the company.\n",
    "\n"
   ]
  },
  {
   "cell_type": "code",
   "execution_count": 4,
   "id": "53d67834",
   "metadata": {},
   "outputs": [
    {
     "name": "stdout",
     "output_type": "stream",
     "text": [
      "      Age  Attrition     BusinessTravel  DailyRate            Department  \\\n",
      "1134   35        0.0      Travel_Rarely        583  Research_Development   \n",
      "1150   52        0.0         Non-Travel        585                 Sales   \n",
      "531    33        0.0      Travel_Rarely        931  Research_Development   \n",
      "395    31        0.0      Travel_Rarely       1332  Research_Development   \n",
      "392    29        0.0      Travel_Rarely        942  Research_Development   \n",
      "...   ...        ...                ...        ...                   ...   \n",
      "361    27        0.0  Travel_Frequently       1410                 Sales   \n",
      "1180   36        0.0      Travel_Rarely        530                 Sales   \n",
      "230    26        0.0      Travel_Rarely       1443                 Sales   \n",
      "211    29        0.0  Travel_Frequently        410  Research_Development   \n",
      "890    30        0.0  Travel_Frequently       1312  Research_Development   \n",
      "\n",
      "      DistanceFromHome      Education    EducationField  \\\n",
      "1134                25         Master           Medical   \n",
      "1150                29         Master     Life_Sciences   \n",
      "531                 14       Bachelor           Medical   \n",
      "395                 11        College           Medical   \n",
      "392                 15  Below_College     Life_Sciences   \n",
      "...                ...            ...               ...   \n",
      "361                  3  Below_College           Medical   \n",
      "1180                 2         Master     Life_Sciences   \n",
      "230                 23       Bachelor         Marketing   \n",
      "211                  2  Below_College     Life_Sciences   \n",
      "890                  2         Master  Technical_Degree   \n",
      "\n",
      "     EnvironmentSatisfaction  Gender  ...  PerformanceRating  \\\n",
      "1134                    High  Female  ...          Excellent   \n",
      "1150                     Low    Male  ...          Excellent   \n",
      "531                Very_High  Female  ...          Excellent   \n",
      "395                     High    Male  ...          Excellent   \n",
      "392                   Medium  Female  ...          Excellent   \n",
      "...                      ...     ...  ...                ...   \n",
      "361                Very_High  Female  ...        Outstanding   \n",
      "1180                    High  Female  ...          Excellent   \n",
      "230                     High  Female  ...          Excellent   \n",
      "211                Very_High  Female  ...          Excellent   \n",
      "890                Very_High  Female  ...          Excellent   \n",
      "\n",
      "     RelationshipSatisfaction  StockOptionLevel TotalWorkingYears  \\\n",
      "1134                     High                 1                16   \n",
      "1150                   Medium                 2                16   \n",
      "531                 Very_High                 1                 8   \n",
      "395                 Very_High                 0                 6   \n",
      "392                       Low                 1                 6   \n",
      "...                       ...               ...               ...   \n",
      "361                    Medium                 2                 6   \n",
      "1180                     High                 0                17   \n",
      "230                      High                 1                 5   \n",
      "211                      High                 3                 4   \n",
      "890                 Very_High                 0                10   \n",
      "\n",
      "     TrainingTimesLastYear WorkLifeBalance  YearsAtCompany  \\\n",
      "1134                     3            Good              16   \n",
      "1150                     3            Good               9   \n",
      "531                      5          Better               8   \n",
      "395                      2            Good               6   \n",
      "392                      2            Good               5   \n",
      "...                    ...             ...             ...   \n",
      "361                      3          Better               6   \n",
      "1180                     2            Good              13   \n",
      "230                      2            Good               2   \n",
      "211                      3          Better               3   \n",
      "890                      2          Better               9   \n",
      "\n",
      "      YearsInCurrentRole  YearsSinceLastPromotion YearsWithCurrManager  \n",
      "1134                  10                       10                    1  \n",
      "1150                   8                        0                    0  \n",
      "531                    7                        1                    6  \n",
      "395                    5                        0                    1  \n",
      "392                    4                        1                    3  \n",
      "...                  ...                      ...                  ...  \n",
      "361                    5                        0                    4  \n",
      "1180                   7                        6                    7  \n",
      "230                    2                        0                    0  \n",
      "211                    2                        0                    2  \n",
      "890                    7                        0                    7  \n",
      "\n",
      "[70 rows x 31 columns]\n"
     ]
    }
   ],
   "source": [
    "# Sample 70 rows using simple random sampling and set the seed\n",
    "attrition_samp = attrition_pop.sample(n=70, random_state=18900217)\n",
    "\n",
    "# Print the sample\n",
    "print(attrition_samp)"
   ]
  },
  {
   "cell_type": "markdown",
   "id": "39bc09fc",
   "metadata": {},
   "source": [
    "## Systematic sampling\n",
    "\n",
    "One sampling method that avoids randomness is called systematic sampling. Here, you pick rows from the population at regular intervals.\n",
    "\n",
    "For example, if the population dataset had one thousand rows, and you wanted a sample size of five, you could pick rows 0, 200, 400, 600, and 800."
   ]
  },
  {
   "cell_type": "code",
   "execution_count": 5,
   "id": "37c1e216",
   "metadata": {},
   "outputs": [
    {
     "name": "stdout",
     "output_type": "stream",
     "text": [
      "      Age  Attrition BusinessTravel  DailyRate            Department  \\\n",
      "0      21        0.0  Travel_Rarely        391  Research_Development   \n",
      "21     19        0.0  Travel_Rarely       1181  Research_Development   \n",
      "42     45        0.0  Travel_Rarely        252  Research_Development   \n",
      "63     23        0.0  Travel_Rarely        373  Research_Development   \n",
      "84     30        1.0  Travel_Rarely        945                 Sales   \n",
      "...   ...        ...            ...        ...                   ...   \n",
      "1365   48        0.0  Travel_Rarely        715  Research_Development   \n",
      "1386   48        0.0  Travel_Rarely       1355  Research_Development   \n",
      "1407   50        0.0  Travel_Rarely        989  Research_Development   \n",
      "1428   50        0.0     Non-Travel        881  Research_Development   \n",
      "1449   52        0.0  Travel_Rarely        699  Research_Development   \n",
      "\n",
      "      DistanceFromHome      Education EducationField EnvironmentSatisfaction  \\\n",
      "0                   15        College  Life_Sciences                    High   \n",
      "21                   3  Below_College        Medical                  Medium   \n",
      "42                   2       Bachelor  Life_Sciences                  Medium   \n",
      "63                   1        College  Life_Sciences               Very_High   \n",
      "84                   9       Bachelor        Medical                  Medium   \n",
      "...                ...            ...            ...                     ...   \n",
      "1365                 1       Bachelor  Life_Sciences               Very_High   \n",
      "1386                 4         Master  Life_Sciences                    High   \n",
      "1407                 7        College        Medical                  Medium   \n",
      "1428                 2         Master  Life_Sciences                     Low   \n",
      "1449                 1         Master  Life_Sciences                    High   \n",
      "\n",
      "      Gender  ...  PerformanceRating RelationshipSatisfaction  \\\n",
      "0       Male  ...          Excellent                Very_High   \n",
      "21    Female  ...          Excellent                Very_High   \n",
      "42    Female  ...          Excellent                Very_High   \n",
      "63      Male  ...        Outstanding                Very_High   \n",
      "84      Male  ...          Excellent                     High   \n",
      "...      ...  ...                ...                      ...   \n",
      "1365    Male  ...          Excellent                     High   \n",
      "1386    Male  ...          Excellent                   Medium   \n",
      "1407  Female  ...          Excellent                Very_High   \n",
      "1428    Male  ...          Excellent                Very_High   \n",
      "1449    Male  ...          Excellent                      Low   \n",
      "\n",
      "      StockOptionLevel TotalWorkingYears TrainingTimesLastYear  \\\n",
      "0                    0                 0                     6   \n",
      "21                   0                 1                     3   \n",
      "42                   0                 1                     3   \n",
      "63                   1                 1                     2   \n",
      "84                   0                 1                     3   \n",
      "...                ...               ...                   ...   \n",
      "1365                 0                25                     3   \n",
      "1386                 0                27                     3   \n",
      "1407                 1                29                     2   \n",
      "1428                 1                31                     3   \n",
      "1449                 1                34                     5   \n",
      "\n",
      "     WorkLifeBalance  YearsAtCompany  YearsInCurrentRole  \\\n",
      "0             Better               0                   0   \n",
      "21            Better               1                   0   \n",
      "42            Better               1                   0   \n",
      "63            Better               1                   0   \n",
      "84              Good               1                   0   \n",
      "...              ...             ...                 ...   \n",
      "1365            Best               1                   0   \n",
      "1386          Better              15                  11   \n",
      "1407            Good              27                   3   \n",
      "1428          Better              31                   6   \n",
      "1449          Better              33                  18   \n",
      "\n",
      "      YearsSinceLastPromotion YearsWithCurrManager  \n",
      "0                           0                    0  \n",
      "21                          0                    0  \n",
      "42                          0                    0  \n",
      "63                          0                    1  \n",
      "84                          0                    0  \n",
      "...                       ...                  ...  \n",
      "1365                        0                    0  \n",
      "1386                        4                    8  \n",
      "1407                       13                    8  \n",
      "1428                       14                    7  \n",
      "1449                       11                    9  \n",
      "\n",
      "[70 rows x 31 columns]\n"
     ]
    }
   ],
   "source": [
    "# Set the sample size to 70\n",
    "sample_size = 70\n",
    "\n",
    "# Calculate the population size from attrition_pop\n",
    "pop_size = len(attrition_pop)\n",
    "\n",
    "# Calculate the interval\n",
    "interval = pop_size // sample_size\n",
    "\n",
    "# Systematically sample 70 rows\n",
    "attrition_sys_samp = attrition_pop.iloc[::interval]\n",
    "\n",
    "# Print the sample\n",
    "print(attrition_sys_samp)"
   ]
  },
  {
   "cell_type": "markdown",
   "id": "c7142b2e",
   "metadata": {},
   "source": [
    "## Is systematic sampling OK?\n",
    "\n",
    "Systematic sampling has a problem: if the data has been sorted, or there is some sort of pattern or meaning behind the row order, then the resulting sample may not be representative of the whole population. The problem can be solved by shuffling the rows, but then systematic sampling is equivalent to simple random sampling.\n",
    "\n",
    "Here you'll look at how to determine whether or not there is a problem."
   ]
  },
  {
   "cell_type": "code",
   "execution_count": 8,
   "id": "1cc953c6",
   "metadata": {},
   "outputs": [
    {
     "data": {
      "image/png": "[encoded data removed]",
      "text/plain": [
       "<Figure size 432x288 with 1 Axes>"
      ]
     },
     "metadata": {
      "needs_background": "light"
     },
     "output_type": "display_data"
    }
   ],
   "source": [
    "# Add an index column to attrition_pop\n",
    "attrition_pop_id = attrition_pop.reset_index()\n",
    "\n",
    "# Plot YearsAtCompany vs. index for attrition_pop_id\n",
    "attrition_pop_id.plot(x=\"index\", y=\"YearsAtCompany\", kind=\"scatter\")\n",
    "plt.show()"
   ]
  },
  {
   "cell_type": "code",
   "execution_count": 9,
   "id": "4768878e",
   "metadata": {},
   "outputs": [
    {
     "data": {
      "image/png": "[encoded data removed]",
      "text/plain": [
       "<Figure size 432x288 with 1 Axes>"
      ]
     },
     "metadata": {
      "needs_background": "light"
     },
     "output_type": "display_data"
    }
   ],
   "source": [
    "# Shuffle the rows of attrition_pop\n",
    "attrition_shuffled = attrition_pop.sample(frac=1)\n",
    "\n",
    "# Reset the row indexes and create an index column\n",
    "attrition_shuffled = attrition_shuffled.reset_index(drop=True).reset_index()\n",
    "\n",
    "# Plot YearsAtCompany vs. index for attrition_shuffled\n",
    "attrition_shuffled.plot(x=\"index\", y=\"YearsAtCompany\", kind=\"scatter\")\n",
    "plt.show()"
   ]
  },
  {
   "cell_type": "markdown",
   "id": "27924908",
   "metadata": {},
   "source": [
    "Question\n",
    "\n",
    "Does a systematic sample always produce a sample similar to a simple random sample?\n",
    "\n",
    "No. This is not true if the data is sorted in some way"
   ]
  },
  {
   "cell_type": "markdown",
   "id": "e5673121",
   "metadata": {},
   "source": [
    "# Stratified and weighted random sampling\n",
    "parte dois"
   ]
  },
  {
   "cell_type": "markdown",
   "id": "6c253b3e",
   "metadata": {},
   "source": [
    "## Proportional stratified sampling\n",
    "\n",
    "If you are interested in subgroups within the population, then you may need to carefully control the counts of each subgroup within the population. Proportional stratified sampling results in subgroup sizes within the sample that are representative of the subgroup sizes within the population. It is equivalent to performing a simple random sample on each subgroup."
   ]
  },
  {
   "cell_type": "code",
   "execution_count": 3,
   "id": "b82ffa5c",
   "metadata": {},
   "outputs": [
    {
     "name": "stdout",
     "output_type": "stream",
     "text": [
      "Bachelor         0.389116\n",
      "Master           0.270748\n",
      "College          0.191837\n",
      "Below_College    0.115646\n",
      "Doctor           0.032653\n",
      "Name: Education, dtype: float64\n",
      "Bachelor         0.389456\n",
      "Master           0.270408\n",
      "College          0.192177\n",
      "Below_College    0.115646\n",
      "Doctor           0.032313\n",
      "Name: Education, dtype: float64\n"
     ]
    }
   ],
   "source": [
    "# Proportion of employees by Education level\n",
    "education_counts_pop = attrition_pop['Education'].value_counts(normalize=True)\n",
    "\n",
    "# Print education_counts_pop\n",
    "print(education_counts_pop)\n",
    "\n",
    "# Proportional stratified sampling for 40% of each Education group\n",
    "attrition_strat = attrition_pop.groupby('Education')\\\n",
    "\t.sample(frac=0.4, random_state=2022)\n",
    "\n",
    "# Calculate the Education level proportions from attrition_strat\n",
    "education_counts_strat = attrition_strat[\"Education\"].value_counts(normalize=True)\n",
    "\n",
    "# Print education_counts_strat\n",
    "print(education_counts_strat)"
   ]
  },
  {
   "cell_type": "markdown",
   "id": "132eb51a",
   "metadata": {},
   "source": [
    "**Conclusão**: nesse exmplo conseguimos pegar uma quantidade propocional de cada grupo"
   ]
  },
  {
   "cell_type": "markdown",
   "id": "31c53a7a",
   "metadata": {},
   "source": [
    "## Equal counts stratified sampling\n",
    "\n",
    "If one subgroup is larger than another subgroup in the population, but you don't want to reflect that difference in your analysis, then you can use equal counts stratified sampling to generate samples where each subgroup has the same amount of data. For example, if you are analyzing blood types, O is the most common blood type worldwide, but you may wish to have equal amounts of O, A, B, and AB in your sample."
   ]
  },
  {
   "cell_type": "code",
   "execution_count": 4,
   "id": "8d89a4b4",
   "metadata": {},
   "outputs": [
    {
     "name": "stdout",
     "output_type": "stream",
     "text": [
      "Below_College    0.2\n",
      "College          0.2\n",
      "Bachelor         0.2\n",
      "Master           0.2\n",
      "Doctor           0.2\n",
      "Name: Education, dtype: float64\n"
     ]
    }
   ],
   "source": [
    "# Get 30 employees from each Education group\n",
    "attrition_eq = attrition_pop.groupby('Education')\\\n",
    "\t.sample(n=30, random_state=2022)      \n",
    "\n",
    "# Get the proportions from attrition_eq\n",
    "education_counts_eq = attrition_eq[\"Education\"].value_counts(normalize=True)\n",
    "\n",
    "# Print the results\n",
    "print(education_counts_eq)"
   ]
  },
  {
   "cell_type": "markdown",
   "id": "7fd2ba47",
   "metadata": {},
   "source": [
    "## Weighted sampling\n",
    "\n",
    "Stratified sampling provides rules about the probability of picking rows from your dataset at the subgroup level. A generalization of this is weighted sampling, which lets you specify rules about the probability of picking rows at the row level. The probability of picking any given row is proportional to the weight value for that row."
   ]
  },
  {
   "cell_type": "code",
   "execution_count": 7,
   "id": "cf7501ec",
   "metadata": {},
   "outputs": [
    {
     "data": {
      "image/png": "[encoded data removed]",
      "text/plain": [
       "<Figure size 432x288 with 1 Axes>"
      ]
     },
     "metadata": {
      "needs_background": "light"
     },
     "output_type": "display_data"
    },
    {
     "data": {
      "image/png": "[encoded data removed]",
      "text/plain": [
       "<Figure size 432x288 with 1 Axes>"
      ]
     },
     "metadata": {
      "needs_background": "light"
     },
     "output_type": "display_data"
    }
   ],
   "source": [
    "# Plot YearsAtCompany from attrition_pop as a histogram\n",
    "attrition_pop['YearsAtCompany'].hist(bins=np.arange(0, 41, 1))\n",
    "plt.show()\n",
    "\n",
    "# Sample 400 employees weighted by YearsAtCompany\n",
    "attrition_weight = attrition_pop.sample(n=400, weights=\"YearsAtCompany\")\n",
    "\n",
    "# Plot YearsAtCompany from attrition_weight as a histogram\n",
    "attrition_weight[\"YearsAtCompany\"].hist(bins=np.arange(0,41,1))\n",
    "plt.show()"
   ]
  },
  {
   "cell_type": "markdown",
   "id": "5cdbdbc6",
   "metadata": {},
   "source": [
    "Which is higher? The mean YearsAtCompany from attrition_pop or the mean YearsAtCompany from attrition_weight?"
   ]
  },
  {
   "cell_type": "markdown",
   "id": "55d84bd8",
   "metadata": {},
   "source": [
    "R: sample mean"
   ]
  },
  {
   "cell_type": "markdown",
   "id": "513c0c43",
   "metadata": {},
   "source": [
    "# Cluster sampling"
   ]
  },
  {
   "cell_type": "markdown",
   "id": "8c8f0df6",
   "metadata": {},
   "source": [
    "## Performing cluster sampling\n",
    "\n",
    "Now that you know when to use cluster sampling, it's time to put it into action. In this exercise, you'll explore the JobRole column of the attrition dataset. You can think of each job role as a subgroup of the whole population of employees."
   ]
  },
  {
   "cell_type": "code",
   "execution_count": 10,
   "id": "dbe77e05",
   "metadata": {},
   "outputs": [
    {
     "name": "stdout",
     "output_type": "stream",
     "text": [
      "      Age  Attrition     BusinessTravel  DailyRate            Department  \\\n",
      "1348   44        1.0      Travel_Rarely       1376       Human_Resources   \n",
      "886    41        0.0         Non-Travel        552       Human_Resources   \n",
      "983    39        0.0      Travel_Rarely        141       Human_Resources   \n",
      "88     27        1.0  Travel_Frequently       1337       Human_Resources   \n",
      "189    34        0.0      Travel_Rarely        829       Human_Resources   \n",
      "160    24        0.0  Travel_Frequently        897       Human_Resources   \n",
      "839    46        0.0      Travel_Rarely        991       Human_Resources   \n",
      "966    30        0.0      Travel_Rarely       1240       Human_Resources   \n",
      "162    28        0.0         Non-Travel        280       Human_Resources   \n",
      "1231   37        0.0      Travel_Rarely       1239       Human_Resources   \n",
      "599    33        0.0      Travel_Rarely       1099  Research_Development   \n",
      "620    40        0.0      Travel_Rarely        543  Research_Development   \n",
      "853    36        0.0      Travel_Rarely        172  Research_Development   \n",
      "159    23        0.0      Travel_Rarely        160  Research_Development   \n",
      "317    35        0.0      Travel_Rarely        809  Research_Development   \n",
      "815    32        0.0         Non-Travel       1109  Research_Development   \n",
      "80     22        1.0      Travel_Rarely       1294  Research_Development   \n",
      "335    52        0.0      Travel_Rarely       1323  Research_Development   \n",
      "19     20        1.0  Travel_Frequently        871  Research_Development   \n",
      "296    23        0.0      Travel_Rarely        507  Research_Development   \n",
      "1270   53        0.0      Travel_Rarely       1070  Research_Development   \n",
      "1420   50        0.0      Travel_Rarely        691  Research_Development   \n",
      "1344   54        0.0      Travel_Rarely        821  Research_Development   \n",
      "1276   43        0.0      Travel_Rarely        782  Research_Development   \n",
      "689    31        0.0      Travel_Rarely        182  Research_Development   \n",
      "1415   48        0.0      Travel_Rarely       1224  Research_Development   \n",
      "1412   54        0.0      Travel_Rarely        971  Research_Development   \n",
      "1139   40        0.0         Non-Travel        218  Research_Development   \n",
      "1453   55        0.0      Travel_Rarely        478  Research_Development   \n",
      "1077   37        0.0         Non-Travel        728  Research_Development   \n",
      "206    38        0.0  Travel_Frequently        693  Research_Development   \n",
      "98     33        0.0      Travel_Rarely        832  Research_Development   \n",
      "250    28        1.0      Travel_Rarely       1157  Research_Development   \n",
      "408    32        0.0      Travel_Rarely        634  Research_Development   \n",
      "569    31        0.0      Travel_Rarely       1222  Research_Development   \n",
      "94     36        1.0      Travel_Rarely        318  Research_Development   \n",
      "344    29        0.0      Travel_Rarely       1283  Research_Development   \n",
      "457    59        0.0      Travel_Rarely        142  Research_Development   \n",
      "161    28        0.0      Travel_Rarely       1217  Research_Development   \n",
      "227    35        0.0      Travel_Rarely        287  Research_Development   \n",
      "\n",
      "      DistanceFromHome      Education   EducationField  \\\n",
      "1348                 1        College          Medical   \n",
      "886                  4       Bachelor  Human_Resources   \n",
      "983                  3       Bachelor  Human_Resources   \n",
      "88                  22       Bachelor  Human_Resources   \n",
      "189                  3        College  Human_Resources   \n",
      "160                 10       Bachelor          Medical   \n",
      "839                  1        College    Life_Sciences   \n",
      "966                  9       Bachelor  Human_Resources   \n",
      "162                  1        College    Life_Sciences   \n",
      "1231                 8        College            Other   \n",
      "599                  4         Master          Medical   \n",
      "620                  1         Master    Life_Sciences   \n",
      "853                  4         Master    Life_Sciences   \n",
      "159                  4  Below_College          Medical   \n",
      "317                 16       Bachelor          Medical   \n",
      "815                 29         Master          Medical   \n",
      "80                   8  Below_College          Medical   \n",
      "335                  2       Bachelor    Life_Sciences   \n",
      "19                   6       Bachelor    Life_Sciences   \n",
      "296                 20  Below_College    Life_Sciences   \n",
      "1270                 3         Master          Medical   \n",
      "1420                 2       Bachelor          Medical   \n",
      "1344                 5        College          Medical   \n",
      "1276                 6         Master            Other   \n",
      "689                  8         Doctor    Life_Sciences   \n",
      "1415                10       Bachelor    Life_Sciences   \n",
      "1412                 1       Bachelor          Medical   \n",
      "1139                 8  Below_College          Medical   \n",
      "1453                 2       Bachelor          Medical   \n",
      "1077                 1         Master          Medical   \n",
      "206                  7       Bachelor    Life_Sciences   \n",
      "98                   5         Master    Life_Sciences   \n",
      "250                  2         Master          Medical   \n",
      "408                  5         Master            Other   \n",
      "569                 11         Master    Life_Sciences   \n",
      "94                   9       Bachelor          Medical   \n",
      "344                 23       Bachelor    Life_Sciences   \n",
      "457                  3       Bachelor    Life_Sciences   \n",
      "161                  1       Bachelor          Medical   \n",
      "227                  1         Master    Life_Sciences   \n",
      "\n",
      "     EnvironmentSatisfaction  Gender  ...  PerformanceRating  \\\n",
      "1348                  Medium    Male  ...          Excellent   \n",
      "886                     High    Male  ...          Excellent   \n",
      "983                     High  Female  ...          Excellent   \n",
      "88                       Low  Female  ...          Excellent   \n",
      "189                     High    Male  ...          Excellent   \n",
      "160                      Low    Male  ...          Excellent   \n",
      "839                Very_High  Female  ...          Excellent   \n",
      "966                     High    Male  ...          Excellent   \n",
      "162                     High    Male  ...          Excellent   \n",
      "1231                    High    Male  ...          Excellent   \n",
      "599                      Low  Female  ...          Excellent   \n",
      "620                      Low    Male  ...          Excellent   \n",
      "853                      Low    Male  ...          Excellent   \n",
      "159                     High  Female  ...          Excellent   \n",
      "317                      Low    Male  ...          Excellent   \n",
      "815                Very_High  Female  ...          Excellent   \n",
      "80                      High  Female  ...          Excellent   \n",
      "335                     High  Female  ...          Excellent   \n",
      "19                 Very_High  Female  ...          Excellent   \n",
      "296                      Low    Male  ...          Excellent   \n",
      "1270                    High    Male  ...          Excellent   \n",
      "1420                    High    Male  ...          Excellent   \n",
      "1344                     Low    Male  ...          Excellent   \n",
      "1276                  Medium    Male  ...          Excellent   \n",
      "689                      Low  Female  ...          Excellent   \n",
      "1415               Very_High    Male  ...          Excellent   \n",
      "1412               Very_High  Female  ...          Excellent   \n",
      "1139               Very_High    Male  ...          Excellent   \n",
      "1453                    High    Male  ...          Excellent   \n",
      "1077                     Low  Female  ...          Excellent   \n",
      "206                Very_High    Male  ...          Excellent   \n",
      "98                      High  Female  ...          Excellent   \n",
      "250                      Low    Male  ...          Excellent   \n",
      "408                   Medium  Female  ...          Excellent   \n",
      "569                Very_High    Male  ...          Excellent   \n",
      "94                 Very_High    Male  ...          Excellent   \n",
      "344                Very_High    Male  ...          Excellent   \n",
      "457                     High    Male  ...          Excellent   \n",
      "161                     High  Female  ...        Outstanding   \n",
      "227                     High  Female  ...          Excellent   \n",
      "\n",
      "     RelationshipSatisfaction  StockOptionLevel TotalWorkingYears  \\\n",
      "1348                Very_High                 1                24   \n",
      "886                    Medium                 1                10   \n",
      "983                      High                 1                12   \n",
      "88                        Low                 0                 1   \n",
      "189                      High                 1                 4   \n",
      "160                 Very_High                 1                 3   \n",
      "839                      High                 0                10   \n",
      "966                 Very_High                 0                12   \n",
      "162                    Medium                 1                 3   \n",
      "1231                     High                 0                19   \n",
      "599                 Very_High                 0                 8   \n",
      "620                      High                 2                 8   \n",
      "853                      High                 0                10   \n",
      "159                      High                 0                 3   \n",
      "317                      High                 1                 6   \n",
      "815                    Medium                 0                10   \n",
      "80                       High                 0                 1   \n",
      "335                    Medium                 0                 6   \n",
      "19                     Medium                 0                 1   \n",
      "296                    Medium                 0                 5   \n",
      "1270                Very_High                 3                21   \n",
      "1420                Very_High                 0                30   \n",
      "1344                     High                 1                24   \n",
      "1276                     High                 1                21   \n",
      "689                      High                 0                 9   \n",
      "1415                Very_High                 0                29   \n",
      "1412                Very_High                 0                29   \n",
      "1139                     High                 1                16   \n",
      "1453                   Medium                 3                34   \n",
      "1077                      Low                 2                15   \n",
      "206                 Very_High                 3                 4   \n",
      "98                       High                 1                 2   \n",
      "250                 Very_High                 0                 5   \n",
      "408                 Very_High                 2                 6   \n",
      "569                    Medium                 1                 8   \n",
      "94                        Low                 1                 2   \n",
      "344                 Very_High                 0                 6   \n",
      "457                       Low                 1                 7   \n",
      "161                      High                 1                 3   \n",
      "227                 Very_High                 1                 4   \n",
      "\n",
      "     TrainingTimesLastYear WorkLifeBalance  YearsAtCompany  \\\n",
      "1348                     1          Better              20   \n",
      "886                      4          Better               3   \n",
      "983                      3             Bad               8   \n",
      "88                       2          Better               1   \n",
      "189                      1             Bad               3   \n",
      "160                      2          Better               2   \n",
      "839                      3            Best               7   \n",
      "966                      2             Bad              11   \n",
      "162                      2          Better               3   \n",
      "1231                     4            Good              10   \n",
      "599                      5          Better               5   \n",
      "620                      3            Good               1   \n",
      "853                      2            Good              10   \n",
      "159                      3             Bad               3   \n",
      "317                      5          Better               5   \n",
      "815                      2          Better               8   \n",
      "80                       6          Better               1   \n",
      "335                      3            Good               2   \n",
      "19                       5          Better               1   \n",
      "296                      2          Better               4   \n",
      "1270                     5            Good               5   \n",
      "1420                     3          Better               4   \n",
      "1344                     4            Good               4   \n",
      "1276                     3            Good               1   \n",
      "689                      3            Best               3   \n",
      "1415                     3          Better              22   \n",
      "1412                     3            Good              20   \n",
      "1139                     5          Better               9   \n",
      "1453                     2          Better               1   \n",
      "1077                     2          Better               5   \n",
      "206                      2          Better               4   \n",
      "98                       2            Good               2   \n",
      "250                      4            Good               3   \n",
      "408                      3          Better               3   \n",
      "569                      2          Better               6   \n",
      "94                       0            Good               1   \n",
      "344                      4          Better               3   \n",
      "457                      6          Better               1   \n",
      "161                      3          Better               3   \n",
      "227                      5          Better               4   \n",
      "\n",
      "      YearsInCurrentRole  YearsSinceLastPromotion YearsWithCurrManager  \n",
      "1348                   6                        3                    6  \n",
      "886                    2                        1                    2  \n",
      "983                    3                        3                    6  \n",
      "88                     0                        0                    0  \n",
      "189                    2                        0                    2  \n",
      "160                    2                        2                    1  \n",
      "839                    6                        5                    7  \n",
      "966                    9                        4                    7  \n",
      "162                    2                        2                    2  \n",
      "1231                   0                        4                    7  \n",
      "599                    4                        0                    2  \n",
      "620                    0                        0                    0  \n",
      "853                    4                        1                    8  \n",
      "159                    2                        1                    2  \n",
      "317                    4                        0                    3  \n",
      "815                    7                        7                    7  \n",
      "80                     0                        0                    0  \n",
      "335                    2                        2                    2  \n",
      "19                     0                        1                    0  \n",
      "296                    3                        1                    2  \n",
      "1270                   3                        1                    3  \n",
      "1420                   3                        0                    3  \n",
      "1344                   2                        1                    2  \n",
      "1276                   0                        0                    0  \n",
      "689                    2                        1                    0  \n",
      "1415                  10                       12                    9  \n",
      "1412                   7                       12                    7  \n",
      "1139                   8                        4                    8  \n",
      "1453                   0                        0                    0  \n",
      "1077                   2                        0                    2  \n",
      "206                    2                        0                    3  \n",
      "98                     2                        0                    2  \n",
      "250                    2                        2                    2  \n",
      "408                    2                        0                    2  \n",
      "569                    4                        0                    2  \n",
      "94                     0                        0                    0  \n",
      "344                    2                        1                    2  \n",
      "457                    0                        0                    0  \n",
      "161                    2                        1                    2  \n",
      "227                    3                        1                    1  \n",
      "\n",
      "[40 rows x 31 columns]\n"
     ]
    },
    {
     "name": "stderr",
     "output_type": "stream",
     "text": [
      "/tmp/ipykernel_46759/827827002.py:14: SettingWithCopyWarning: \n",
      "A value is trying to be set on a copy of a slice from a DataFrame.\n",
      "Try using .loc[row_indexer,col_indexer] = value instead\n",
      "\n",
      "See the caveats in the documentation: https://pandas.pydata.org/pandas-docs/stable/user_guide/indexing.html#returning-a-view-versus-a-copy\n",
      "  attrition_filtered['JobRole'] = attrition_filtered['JobRole'].cat.remove_unused_categories()\n"
     ]
    }
   ],
   "source": [
    "np.random.seed(19790801)\n",
    "\n",
    "# Create a list of unique JobRole values\n",
    "job_roles_pop = list(attrition_pop['JobRole'].unique())\n",
    "\n",
    "# Randomly sample four JobRole values\n",
    "job_roles_samp = random.sample(job_roles_pop, k=4)\n",
    "\n",
    "# Filter for rows where JobRole is in job_roles_samp\n",
    "jobrole_condition = attrition_pop['JobRole'].isin(job_roles_samp)\n",
    "attrition_filtered = attrition_pop[jobrole_condition]\n",
    "\n",
    "# Remove categories with no rows\n",
    "attrition_filtered['JobRole'] = attrition_filtered['JobRole'].cat.remove_unused_categories()\n",
    "\n",
    "# Randomly sample 10 employees from each sampled job role\n",
    "attrition_clust = attrition_filtered.groupby('JobRole').sample(n=10, random_state=2022)\n",
    "\n",
    "\n",
    "# Print the sample\n",
    "print(attrition_clust)"
   ]
  },
  {
   "cell_type": "markdown",
   "id": "2b36e109",
   "metadata": {},
   "source": [
    "## kinds of sampling\n",
    "\n",
    "You're going to compare the performance of point estimates using simple, stratified, and cluster sampling. Before doing that, you'll have to set up the samples.\n",
    "\n",
    "You'll use the RelationshipSatisfaction column of the attrition_pop dataset, which categorizes the employee's relationship with the company. It has four levels: Low, Medium, High, and Very_High. pandas has been loaded with its usual alias, and the random package has been loaded."
   ]
  },
  {
   "cell_type": "code",
   "execution_count": 46,
   "id": "a2d9feac",
   "metadata": {},
   "outputs": [],
   "source": [
    "# Perform simple random sampling to get 0.25 of the population\n",
    "attrition_srs = attrition_pop.sample(frac=0.25, random_state= 2022)"
   ]
  },
  {
   "cell_type": "code",
   "execution_count": 47,
   "id": "6d76117d",
   "metadata": {},
   "outputs": [],
   "source": [
    "# Perform stratified sampling to get 0.25 of each relationship group\n",
    "attrition_strat = attrition_pop.groupby(\"RelationshipSatisfaction\").sample(frac=0.25, random_state=2022)\n"
   ]
  },
  {
   "cell_type": "code",
   "execution_count": 48,
   "id": "81fcaee6",
   "metadata": {},
   "outputs": [
    {
     "name": "stderr",
     "output_type": "stream",
     "text": [
      "/tmp/ipykernel_46759/178701783.py:11: SettingWithCopyWarning: \n",
      "A value is trying to be set on a copy of a slice from a DataFrame.\n",
      "Try using .loc[row_indexer,col_indexer] = value instead\n",
      "\n",
      "See the caveats in the documentation: https://pandas.pydata.org/pandas-docs/stable/user_guide/indexing.html#returning-a-view-versus-a-copy\n",
      "  attrition_clust_prep['RelationshipSatisfaction'] = attrition_clust_prep['RelationshipSatisfaction'].cat.remove_unused_categories()\n"
     ]
    }
   ],
   "source": [
    "np.random.seed(19790801)\n",
    "# Create a list of unique RelationshipSatisfaction values\n",
    "satisfaction_unique = list(attrition_pop['RelationshipSatisfaction'].unique())\n",
    "\n",
    "# Randomly sample 2 unique satisfaction values\n",
    "satisfaction_samp = random.sample(satisfaction_unique, k=2)\n",
    "\n",
    "# Filter for satisfaction_samp and clear unused categories from RelationshipSatisfaction\n",
    "satis_condition = attrition_pop['RelationshipSatisfaction'].isin(satisfaction_samp)\n",
    "attrition_clust_prep = attrition_pop[satis_condition]\n",
    "attrition_clust_prep['RelationshipSatisfaction'] = attrition_clust_prep['RelationshipSatisfaction'].cat.remove_unused_categories()\n",
    "\n",
    "\n",
    "#original da erro: pesquisa sobre\n",
    "#attrition_clust = attrition_clust_prep.groupby(\"RelationshipSatisfaction\").sample(n=len(attrition_pop) // 4, random_state=2022)\n",
    "\n",
    "# Perform cluster sampling on the selected group, getting 0.25 of attrition_pop\n",
    "attrition_clust = attrition_clust_prep.groupby(\"RelationshipSatisfaction\").sample(n=len(attrition_clust_prep)//4, random_state=2022)"
   ]
  },
  {
   "cell_type": "markdown",
   "id": "cea4c577",
   "metadata": {},
   "source": [
    "## Comparing point estimates\n",
    "\n",
    "Now that you have three types of sample (simple, stratified, and cluster), you can compare point estimates from each sample to the population parameter. That is, you can calculate the same summary statistic on each sample and see how it compares to the summary statistic for the population.\n",
    "\n",
    "Here, we'll look at how satisfaction with the company affects whether or not the employee leaves the company. That is, you'll calculate the proportion of employees who left the company (they have an Attrition value of 1) for each value of RelationshipSatisfaction.\n",
    "\n",
    "attrition_pop, attrition_srs, attrition_strat, and attrition_clust are available; pandas is loaded with its usual alias."
   ]
  },
  {
   "cell_type": "code",
   "execution_count": 49,
   "id": "4c1eaa1e",
   "metadata": {},
   "outputs": [
    {
     "name": "stdout",
     "output_type": "stream",
     "text": [
      "RelationshipSatisfaction\n",
      "Low          0.206522\n",
      "Medium       0.148515\n",
      "High         0.154684\n",
      "Very_High    0.148148\n",
      "Name: Attrition, dtype: float64\n"
     ]
    }
   ],
   "source": [
    "# Mean Attrition by RelationshipSatisfaction group\n",
    "mean_attrition_pop = attrition_pop.groupby(\"RelationshipSatisfaction\")[\"Attrition\"].mean()\n",
    "\n",
    "# Print the result\n",
    "print(mean_attrition_pop)"
   ]
  },
  {
   "cell_type": "code",
   "execution_count": 50,
   "id": "93c5d653",
   "metadata": {},
   "outputs": [
    {
     "name": "stdout",
     "output_type": "stream",
     "text": [
      "RelationshipSatisfaction\n",
      "Low          0.134328\n",
      "Medium       0.164179\n",
      "High         0.160000\n",
      "Very_High    0.155963\n",
      "Name: Attrition, dtype: float64\n"
     ]
    }
   ],
   "source": [
    "# Calculate the same thing for the simple random sample \n",
    "mean_attrition_srs = attrition_srs.groupby(\"RelationshipSatisfaction\")[\"Attrition\"].mean()\n",
    "\n",
    "# Print the result\n",
    "print(mean_attrition_srs)"
   ]
  },
  {
   "cell_type": "code",
   "execution_count": 51,
   "id": "75735f03",
   "metadata": {},
   "outputs": [
    {
     "name": "stdout",
     "output_type": "stream",
     "text": [
      "RelationshipSatisfaction\n",
      "Low          0.144928\n",
      "Medium       0.078947\n",
      "High         0.165217\n",
      "Very_High    0.129630\n",
      "Name: Attrition, dtype: float64\n"
     ]
    }
   ],
   "source": [
    "# Calculate the same thing for the stratified sample \n",
    "mean_attrition_strat = attrition_strat.groupby(\"RelationshipSatisfaction\")[\"Attrition\"].mean()\n",
    "\n",
    "# Print the result\n",
    "print(mean_attrition_strat)"
   ]
  },
  {
   "cell_type": "code",
   "execution_count": 52,
   "id": "2c96505d",
   "metadata": {},
   "outputs": [
    {
     "name": "stdout",
     "output_type": "stream",
     "text": [
      "RelationshipSatisfaction\n",
      "Low     0.213115\n",
      "High    0.125683\n",
      "Name: Attrition, dtype: float64\n"
     ]
    }
   ],
   "source": [
    "# Calculate the same thing for the cluster sample \n",
    "mean_attrition_clust = attrition_clust.groupby(\"RelationshipSatisfaction\")[\"Attrition\"].mean()\n",
    "\n",
    "# Print the result\n",
    "print(mean_attrition_clust)"
   ]
  },
  {
   "cell_type": "markdown",
   "id": "c14d421b",
   "metadata": {},
   "source": [
    "**Observação**\n",
    "O meu attrition_clust deu errado o parametro n, na verdade o resultado deu\n",
    "~~~\n",
    "RelationshipSatisfaction\n",
    "High         0.140\n",
    "Very_High    0.162\n",
    "~~~"
   ]
  },
  {
   "cell_type": "markdown",
   "id": "e1a6adfd",
   "metadata": {},
   "source": [
    "# Fim, tudo ok"
   ]
  },
  {
   "cell_type": "code",
   "execution_count": null,
   "id": "5063cb63",
   "metadata": {},
   "outputs": [],
   "source": []
  }
 ],
 "metadata": {
  "kernelspec": {
   "display_name": "Python 3 (ipykernel)",
   "language": "python",
   "name": "python3"
  },
  "language_info": {
   "codemirror_mode": {
    "name": "ipython",
    "version": 3
   },
   "file_extension": ".py",
   "mimetype": "text/x-python",
   "name": "python",
   "nbconvert_exporter": "python",
   "pygments_lexer": "ipython3",
   "version": "3.10.12"
  }
 },
 "nbformat": 4,
 "nbformat_minor": 5
}
