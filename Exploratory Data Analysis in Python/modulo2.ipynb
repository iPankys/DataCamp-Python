{
 "cells": [
  {
   "cell_type": "markdown",
   "id": "cb296549",
   "metadata": {},
   "source": [
    "# Exploratory Data Analysis in Python\n",
    "## Data Cleaning and Imputation"
   ]
  },
  {
   "cell_type": "code",
   "execution_count": 1,
   "id": "d088c120",
   "metadata": {},
   "outputs": [],
   "source": [
    "import pandas as pd\n",
    "import numpy as np\n",
    "import seaborn as sns"
   ]
  },
  {
   "cell_type": "code",
   "execution_count": 3,
   "id": "143692e6",
   "metadata": {},
   "outputs": [
    {
     "data": {
      "text/html": [
       "<div>\n",
       "<style scoped>\n",
       "    .dataframe tbody tr th:only-of-type {\n",
       "        vertical-align: middle;\n",
       "    }\n",
       "\n",
       "    .dataframe tbody tr th {\n",
       "        vertical-align: top;\n",
       "    }\n",
       "\n",
       "    .dataframe thead th {\n",
       "        text-align: right;\n",
       "    }\n",
       "</style>\n",
       "<table border=\"1\" class=\"dataframe\">\n",
       "  <thead>\n",
       "    <tr style=\"text-align: right;\">\n",
       "      <th></th>\n",
       "      <th>Unnamed: 0</th>\n",
       "      <th>work_year</th>\n",
       "      <th>experience_level</th>\n",
       "      <th>employment_type</th>\n",
       "      <th>job_title</th>\n",
       "      <th>salary</th>\n",
       "      <th>salary_currency</th>\n",
       "      <th>salary_in_usd</th>\n",
       "      <th>employee_residence</th>\n",
       "      <th>remote_ratio</th>\n",
       "      <th>company_location</th>\n",
       "      <th>company_size</th>\n",
       "    </tr>\n",
       "  </thead>\n",
       "  <tbody>\n",
       "    <tr>\n",
       "      <th>0</th>\n",
       "      <td>0</td>\n",
       "      <td>2020</td>\n",
       "      <td>MI</td>\n",
       "      <td>FT</td>\n",
       "      <td>Data Scientist</td>\n",
       "      <td>70000</td>\n",
       "      <td>EUR</td>\n",
       "      <td>79833</td>\n",
       "      <td>DE</td>\n",
       "      <td>0</td>\n",
       "      <td>DE</td>\n",
       "      <td>L</td>\n",
       "    </tr>\n",
       "    <tr>\n",
       "      <th>1</th>\n",
       "      <td>1</td>\n",
       "      <td>2020</td>\n",
       "      <td>SE</td>\n",
       "      <td>FT</td>\n",
       "      <td>Machine Learning Scientist</td>\n",
       "      <td>260000</td>\n",
       "      <td>USD</td>\n",
       "      <td>260000</td>\n",
       "      <td>JP</td>\n",
       "      <td>0</td>\n",
       "      <td>JP</td>\n",
       "      <td>S</td>\n",
       "    </tr>\n",
       "    <tr>\n",
       "      <th>2</th>\n",
       "      <td>2</td>\n",
       "      <td>2020</td>\n",
       "      <td>SE</td>\n",
       "      <td>FT</td>\n",
       "      <td>Big Data Engineer</td>\n",
       "      <td>85000</td>\n",
       "      <td>GBP</td>\n",
       "      <td>109024</td>\n",
       "      <td>GB</td>\n",
       "      <td>50</td>\n",
       "      <td>GB</td>\n",
       "      <td>M</td>\n",
       "    </tr>\n",
       "    <tr>\n",
       "      <th>3</th>\n",
       "      <td>3</td>\n",
       "      <td>2020</td>\n",
       "      <td>MI</td>\n",
       "      <td>FT</td>\n",
       "      <td>Product Data Analyst</td>\n",
       "      <td>20000</td>\n",
       "      <td>USD</td>\n",
       "      <td>20000</td>\n",
       "      <td>HN</td>\n",
       "      <td>0</td>\n",
       "      <td>HN</td>\n",
       "      <td>S</td>\n",
       "    </tr>\n",
       "    <tr>\n",
       "      <th>4</th>\n",
       "      <td>4</td>\n",
       "      <td>2020</td>\n",
       "      <td>SE</td>\n",
       "      <td>FT</td>\n",
       "      <td>Machine Learning Engineer</td>\n",
       "      <td>150000</td>\n",
       "      <td>USD</td>\n",
       "      <td>150000</td>\n",
       "      <td>US</td>\n",
       "      <td>50</td>\n",
       "      <td>US</td>\n",
       "      <td>L</td>\n",
       "    </tr>\n",
       "  </tbody>\n",
       "</table>\n",
       "</div>"
      ],
      "text/plain": [
       "   Unnamed: 0  work_year experience_level employment_type  \\\n",
       "0           0       2020               MI              FT   \n",
       "1           1       2020               SE              FT   \n",
       "2           2       2020               SE              FT   \n",
       "3           3       2020               MI              FT   \n",
       "4           4       2020               SE              FT   \n",
       "\n",
       "                    job_title  salary salary_currency  salary_in_usd  \\\n",
       "0              Data Scientist   70000             EUR          79833   \n",
       "1  Machine Learning Scientist  260000             USD         260000   \n",
       "2           Big Data Engineer   85000             GBP         109024   \n",
       "3        Product Data Analyst   20000             USD          20000   \n",
       "4   Machine Learning Engineer  150000             USD         150000   \n",
       "\n",
       "  employee_residence  remote_ratio company_location company_size  \n",
       "0                 DE             0               DE            L  \n",
       "1                 JP             0               JP            S  \n",
       "2                 GB            50               GB            M  \n",
       "3                 HN             0               HN            S  \n",
       "4                 US            50               US            L  "
      ]
     },
     "execution_count": 3,
     "metadata": {},
     "output_type": "execute_result"
    }
   ],
   "source": [
    "salaries = pd.read_csv('../datasets/ds_salaries.csv')\n",
    "salaries.head()"
   ]
  },
  {
   "cell_type": "code",
   "execution_count": 4,
   "id": "b0886ecd",
   "metadata": {},
   "outputs": [
    {
     "data": {
      "text/plain": [
       "Unnamed: 0            0\n",
       "work_year             0\n",
       "experience_level      0\n",
       "employment_type       0\n",
       "job_title             0\n",
       "salary                0\n",
       "salary_currency       0\n",
       "salary_in_usd         0\n",
       "employee_residence    0\n",
       "remote_ratio          0\n",
       "company_location      0\n",
       "company_size          0\n",
       "dtype: int64"
      ]
     },
     "execution_count": 4,
     "metadata": {},
     "output_type": "execute_result"
    }
   ],
   "source": [
    "# Checking for missing values\n",
    "salaries.isna().sum()"
   ]
  },
  {
   "cell_type": "code",
   "execution_count": 5,
   "id": "e71def07",
   "metadata": {},
   "outputs": [
    {
     "data": {
      "text/plain": [
       "30.35"
      ]
     },
     "execution_count": 5,
     "metadata": {},
     "output_type": "execute_result"
    }
   ],
   "source": [
    "# Vai se importante para saber qunato é 5% dos dados\n",
    "# vamoa eliminar caso se for essa quantidade de representividade \n",
    "threshold = len(salaries) * 0.05\n",
    "threshold"
   ]
  },
  {
   "cell_type": "code",
   "execution_count": 6,
   "id": "354424f2",
   "metadata": {},
   "outputs": [
    {
     "name": "stdout",
     "output_type": "stream",
     "text": [
      "Index(['Unnamed: 0', 'work_year', 'experience_level', 'employment_type',\n",
      "       'job_title', 'salary', 'salary_currency', 'salary_in_usd',\n",
      "       'employee_residence', 'remote_ratio', 'company_location',\n",
      "       'company_size'],\n",
      "      dtype='object')\n"
     ]
    }
   ],
   "source": [
    "# Toda coluna que tiver dados faltando que representa menos de 5%\n",
    "cols_to_drop = salaries.columns[salaries.isna().sum() <= threshold]\n",
    "print(cols_to_drop)"
   ]
  },
  {
   "cell_type": "code",
   "execution_count": 7,
   "id": "6bd345d2",
   "metadata": {},
   "outputs": [],
   "source": [
    "# Vai retirar esse dados faltante \n",
    "salaries.dropna(subset=cols_to_drop, inplace=True)"
   ]
  },
  {
   "cell_type": "code",
   "execution_count": 8,
   "id": "2aa3c1e3",
   "metadata": {},
   "outputs": [
    {
     "name": "stdout",
     "output_type": "stream",
     "text": [
      "Index([], dtype='object')\n"
     ]
    }
   ],
   "source": [
    "# Verificando se ainda existe valores faltante \n",
    "cols_with_missing_values = salaries.columns[salaries.isna().sum() > 0]\n",
    "print(cols_with_missing_values)"
   ]
  },
  {
   "cell_type": "code",
   "execution_count": 9,
   "id": "8848b569",
   "metadata": {},
   "outputs": [],
   "source": [
    "# estamos substindo pela moda \n",
    "for col in cols_with_missing_values[:-1]:\n",
    "    salaries[col].fillna(salaries[col].mode()[0])"
   ]
  },
  {
   "cell_type": "markdown",
   "id": "8c634902",
   "metadata": {},
   "source": [
    "## substituindo pela mediana\n",
    "\n",
    "Esse  exemplo é muito interessante, pois estamos relacionando o salario com a experiencia.\n",
    "Para isso estamos usando grouby para pegar a mediana do salario relacionado com a experiência. \n",
    "Repare que estamos salvando a mediana como um dicionario.\n",
    "\n",
    "Depois, estamos usando fillna para substituir valores ausente, para isso usamos map para que consulta no dicionario a mediana.\n",
    "\n",
    "finalmente imprimimos para verificar se esta tudo correto"
   ]
  },
  {
   "cell_type": "code",
   "execution_count": 10,
   "id": "622f4d57",
   "metadata": {},
   "outputs": [
    {
     "name": "stdout",
     "output_type": "stream",
     "text": [
      "{'EN': 56500.0, 'EX': 171437.5, 'MI': 76940.0, 'SE': 135500.0}\n"
     ]
    }
   ],
   "source": [
    "salaries_dict = salaries.groupby(\"experience_level\")[\"salary_in_usd\"].median().to_dict()\n",
    "print(salaries_dict)"
   ]
  },
  {
   "cell_type": "code",
   "execution_count": 11,
   "id": "321841dc",
   "metadata": {},
   "outputs": [],
   "source": [
    "salaries[\"salary_in_usd\"] = salaries[\"salary_in_usd\"].fillna(salaries[\"experience_level\"].map(salaries_dict))"
   ]
  },
  {
   "cell_type": "code",
   "execution_count": 12,
   "id": "e323bec6",
   "metadata": {},
   "outputs": [
    {
     "name": "stdout",
     "output_type": "stream",
     "text": [
      "Unnamed: 0            0\n",
      "work_year             0\n",
      "experience_level      0\n",
      "employment_type       0\n",
      "job_title             0\n",
      "salary                0\n",
      "salary_currency       0\n",
      "salary_in_usd         0\n",
      "employee_residence    0\n",
      "remote_ratio          0\n",
      "company_location      0\n",
      "company_size          0\n",
      "dtype: int64\n"
     ]
    }
   ],
   "source": [
    "print(salaries.isna().sum())"
   ]
  },
  {
   "cell_type": "markdown",
   "id": "290f40e9",
   "metadata": {},
   "source": [
    "# Converting and analyzing categorical data\n",
    "Segundo bloco "
   ]
  },
  {
   "cell_type": "code",
   "execution_count": 3,
   "id": "a48327e8",
   "metadata": {},
   "outputs": [
    {
     "name": "stdout",
     "output_type": "stream",
     "text": [
      "  experience_level employment_type                   job_title  \\\n",
      "0               MI              FT              Data Scientist   \n",
      "1               SE              FT  Machine Learning Scientist   \n",
      "2               SE              FT           Big Data Engineer   \n",
      "3               MI              FT        Product Data Analyst   \n",
      "4               SE              FT   Machine Learning Engineer   \n",
      "\n",
      "  salary_currency employee_residence company_location company_size  \n",
      "0             EUR                 DE               DE            L  \n",
      "1             USD                 JP               JP            S  \n",
      "2             GBP                 GB               GB            M  \n",
      "3             USD                 HN               HN            S  \n",
      "4             USD                 US               US            L  \n"
     ]
    }
   ],
   "source": [
    "# estamos imprimindo o tipo \"object\"\n",
    "print(salaries.select_dtypes(\"object\").head())"
   ]
  },
  {
   "cell_type": "code",
   "execution_count": 5,
   "id": "459a806c",
   "metadata": {},
   "outputs": [
    {
     "name": "stdout",
     "output_type": "stream",
     "text": [
      "Data Scientist                              143\n",
      "Data Engineer                               132\n",
      "Data Analyst                                 97\n",
      "Machine Learning Engineer                    41\n",
      "Research Scientist                           16\n",
      "Data Science Manager                         12\n",
      "Data Architect                               11\n",
      "Big Data Engineer                             8\n",
      "Machine Learning Scientist                    8\n",
      "Principal Data Scientist                      7\n",
      "AI Scientist                                  7\n",
      "Data Science Consultant                       7\n",
      "Director of Data Science                      7\n",
      "Data Analytics Manager                        7\n",
      "ML Engineer                                   6\n",
      "Computer Vision Engineer                      6\n",
      "BI Data Analyst                               6\n",
      "Lead Data Engineer                            6\n",
      "Data Engineering Manager                      5\n",
      "Business Data Analyst                         5\n",
      "Head of Data                                  5\n",
      "Applied Data Scientist                        5\n",
      "Applied Machine Learning Scientist            4\n",
      "Head of Data Science                          4\n",
      "Analytics Engineer                            4\n",
      "Data Analytics Engineer                       4\n",
      "Machine Learning Developer                    3\n",
      "Machine Learning Infrastructure Engineer      3\n",
      "Lead Data Scientist                           3\n",
      "Computer Vision Software Engineer             3\n",
      "Lead Data Analyst                             3\n",
      "Data Science Engineer                         3\n",
      "Principal Data Engineer                       3\n",
      "Principal Data Analyst                        2\n",
      "ETL Developer                                 2\n",
      "Product Data Analyst                          2\n",
      "Director of Data Engineering                  2\n",
      "Financial Data Analyst                        2\n",
      "Cloud Data Engineer                           2\n",
      "Lead Machine Learning Engineer                1\n",
      "NLP Engineer                                  1\n",
      "Head of Machine Learning                      1\n",
      "3D Computer Vision Researcher                 1\n",
      "Data Specialist                               1\n",
      "Staff Data Scientist                          1\n",
      "Big Data Architect                            1\n",
      "Finance Data Analyst                          1\n",
      "Marketing Data Analyst                        1\n",
      "Machine Learning Manager                      1\n",
      "Data Analytics Lead                           1\n",
      "Name: job_title, dtype: int64\n"
     ]
    }
   ],
   "source": [
    "# Conta a quantidade de vezes que apareceu \n",
    "print(salaries[\"job_title\"].value_counts())"
   ]
  },
  {
   "cell_type": "code",
   "execution_count": 7,
   "id": "107b5da9",
   "metadata": {},
   "outputs": [
    {
     "name": "stdout",
     "output_type": "stream",
     "text": [
      "50\n"
     ]
    }
   ],
   "source": [
    "# Serve para nos temos uma noção de quantidade que existe de trabalho\n",
    "print(salaries[\"job_title\"].nunique())"
   ]
  },
  {
   "cell_type": "code",
   "execution_count": 8,
   "id": "c8a874b9",
   "metadata": {},
   "outputs": [
    {
     "data": {
      "text/plain": [
       "0      False\n",
       "1       True\n",
       "2      False\n",
       "3      False\n",
       "4       True\n",
       "       ...  \n",
       "602    False\n",
       "603    False\n",
       "604    False\n",
       "605    False\n",
       "606     True\n",
       "Name: job_title, Length: 607, dtype: bool"
      ]
     },
     "execution_count": 8,
     "metadata": {},
     "output_type": "execute_result"
    }
   ],
   "source": [
    "# str.contains vai verificar se contem o conteudo correspondente, retorna verdadeiro ou falso \n",
    "# O pipe (|) vai servir como ou, esse comando serve para pegar \"Machine Learning\" ou \"AI\" \n",
    "salaries[\"job_title\"].str.contains(\"Machine Learning|AI\")"
   ]
  },
  {
   "cell_type": "markdown",
   "id": "794a7965",
   "metadata": {},
   "source": [
    "## Criando categoria \n",
    "Como já tinhamos visto \"str.contains\"  server para saber se tem ou não tem o valor o mesmo valor, caso sim, ele retorna True caso contrario retorna False.\n",
    "\n",
    "job_categories ->  vai ser os tipos de categorias\n",
    "\n",
    "data_science ate  consulatant -> serão os \"criterio\" para se daquela categoria\n",
    "Exemplo: se na coluna job_title, conter a palavara \"Data Science\" ou \"NLP\" vai ser armazenado True na lista \"conditions\", claro que analise esta sendo feito linha por linha\n",
    "\n",
    "contions -> seria uma lista booleano que corresponde cada coluna a cadegoria \n",
    "\n",
    "np.select(conditions, job_categories, default=\"Other\") -> que faz a substituição da categoraia como nos desejamos "
   ]
  },
  {
   "cell_type": "code",
   "execution_count": 12,
   "id": "14b8d90b",
   "metadata": {},
   "outputs": [],
   "source": [
    "job_categories = [\"Data Science\", \"Data Analytics\", \"Data Engineering\", \"Machine Learning\", \"Managerial\", \"Consultant\"]\n",
    "\n",
    "data_science = \"Data Scientist|NLP\"\n",
    "data_analyst = \"Analyst|Analytics\"\n",
    "data_engineer = \"Data Engineer|ETL|Architect|Infrastructure\"\n",
    "ml_engineer = \"Machine Learning|ML|Big Data|AI\"\n",
    "manager = \"Manager|Head|Director|Lead|Principal|Staff\"\n",
    "consultant = \"Consultant|Freelance\""
   ]
  },
  {
   "cell_type": "code",
   "execution_count": 13,
   "id": "786ed6eb",
   "metadata": {},
   "outputs": [],
   "source": [
    "conditions = [\n",
    "(salaries[\"job_title\"].str.contains(data_science)),\n",
    "(salaries[\"job_title\"].str.contains(data_analyst)),\n",
    "(salaries[\"job_title\"].str.contains(data_engineer)),\n",
    "(salaries[\"job_title\"].str.contains(ml_engineer)),\n",
    "(salaries[\"job_title\"].str.contains(manager)),\n",
    "(salaries[\"job_title\"].str.contains(consultant))\n",
    "]\n"
   ]
  },
  {
   "cell_type": "code",
   "execution_count": 18,
   "id": "4b851098",
   "metadata": {},
   "outputs": [],
   "source": [
    "salaries[\"Job_Category\"] = np.select(conditions, job_categories, default=\"Other\")"
   ]
  },
  {
   "cell_type": "code",
   "execution_count": 19,
   "id": "7b6e475d",
   "metadata": {},
   "outputs": [
    {
     "name": "stdout",
     "output_type": "stream",
     "text": [
      "                    job_title      Job_Category\n",
      "0              Data Scientist      Data Science\n",
      "1  Machine Learning Scientist  Machine Learning\n",
      "2           Big Data Engineer  Data Engineering\n",
      "3        Product Data Analyst    Data Analytics\n",
      "4   Machine Learning Engineer  Machine Learning\n"
     ]
    }
   ],
   "source": [
    "print(salaries[[\"job_title\", \"Job_Category\"]].head())"
   ]
  },
  {
   "cell_type": "code",
   "execution_count": 22,
   "id": "18f06cbb",
   "metadata": {},
   "outputs": [
    {
     "ename": "NameError",
     "evalue": "name 'plt' is not defined",
     "output_type": "error",
     "traceback": [
      "\u001b[0;31m---------------------------------------------------------------------------\u001b[0m",
      "\u001b[0;31mNameError\u001b[0m                                 Traceback (most recent call last)",
      "\u001b[0;32m/tmp/ipykernel_25733/136595878.py\u001b[0m in \u001b[0;36m<module>\u001b[0;34m\u001b[0m\n\u001b[1;32m      1\u001b[0m \u001b[0msns\u001b[0m\u001b[0;34m.\u001b[0m\u001b[0mcountplot\u001b[0m\u001b[0;34m(\u001b[0m\u001b[0mdata\u001b[0m\u001b[0;34m=\u001b[0m\u001b[0msalaries\u001b[0m\u001b[0;34m,\u001b[0m \u001b[0mx\u001b[0m\u001b[0;34m=\u001b[0m\u001b[0;34m\"Job_Category\"\u001b[0m\u001b[0;34m)\u001b[0m\u001b[0;34m\u001b[0m\u001b[0;34m\u001b[0m\u001b[0m\n\u001b[0;32m----> 2\u001b[0;31m \u001b[0mplt\u001b[0m\u001b[0;34m.\u001b[0m\u001b[0mshow\u001b[0m\u001b[0;34m(\u001b[0m\u001b[0;34m)\u001b[0m\u001b[0;34m\u001b[0m\u001b[0;34m\u001b[0m\u001b[0m\n\u001b[0m",
      "\u001b[0;31mNameError\u001b[0m: name 'plt' is not defined"
     ]
    },
    {
     "data": {
      "image/png": "[encoded data removed]",
      "text/plain": [
       "<Figure size 432x288 with 1 Axes>"
      ]
     },
     "metadata": {
      "needs_background": "light"
     },
     "output_type": "display_data"
    }
   ],
   "source": [
    "sns.countplot(data=salaries, x=\"Job_Category\")\n",
    "plt.show()"
   ]
  },
  {
   "cell_type": "markdown",
   "id": "5cd6689e",
   "metadata": {},
   "source": [
    "### Duvida \n",
    "\n",
    "Como criar para ter mais de um tipo de categoria "
   ]
  },
  {
   "cell_type": "markdown",
   "id": "0d3d0caa",
   "metadata": {},
   "source": [
    "# Working with numeric data\n",
    "Terceiro bloco "
   ]
  },
  {
   "cell_type": "code",
   "execution_count": 4,
   "id": "f6beec16",
   "metadata": {},
   "outputs": [
    {
     "name": "stdout",
     "output_type": "stream",
     "text": [
      "<class 'pandas.core.frame.DataFrame'>\n",
      "RangeIndex: 607 entries, 0 to 606\n",
      "Data columns (total 12 columns):\n",
      " #   Column              Non-Null Count  Dtype \n",
      "---  ------              --------------  ----- \n",
      " 0   Unnamed: 0          607 non-null    int64 \n",
      " 1   work_year           607 non-null    int64 \n",
      " 2   experience_level    607 non-null    object\n",
      " 3   employment_type     607 non-null    object\n",
      " 4   job_title           607 non-null    object\n",
      " 5   salary              607 non-null    int64 \n",
      " 6   salary_currency     607 non-null    object\n",
      " 7   salary_in_usd       607 non-null    int64 \n",
      " 8   employee_residence  607 non-null    object\n",
      " 9   remote_ratio        607 non-null    int64 \n",
      " 10  company_location    607 non-null    object\n",
      " 11  company_size        607 non-null    object\n",
      "dtypes: int64(5), object(7)\n",
      "memory usage: 57.0+ KB\n",
      "None\n"
     ]
    }
   ],
   "source": [
    "# Queremos ver os type da coluna para verifica se precisa se convertido \n",
    "print(salaries.info())"
   ]
  },
  {
   "cell_type": "markdown",
   "id": "a1e7a1be",
   "metadata": {},
   "source": [
    "### Convetendo object para float\n",
    "\n",
    "Os dados que eles dão já esta limpo, ou seja, não da para replicar o mesmo exemplo e nem faz sentindo, então \n",
    "vamos supor que temos:\n",
    "\n",
    "~~~python\n",
    "print(salaries[\"Salary_In_Rupees\"].head())\n",
    "~~~\n",
    "saída\n",
    " ~~~\n",
    "0 20,688,070.00\n",
    "1 8,674,985.00\n",
    "2 1,591,390.00\n",
    "3 11,935,425.00\n",
    "4 5,729,004.00\n",
    "Name: Salary_In_Rupees, dtype: object\n",
    "~~~\n",
    "\n",
    "Se nos transforma diretamente em float vai dá ruim por causa da virgula, antes de transformar em float devemos eliminar para isso vamos usar replace:\n",
    "~~~ python\n",
    "pd.Series.str.replace(\"characters to remove\", \"characters to replace them with\")\n",
    "~~~\n",
    "\n",
    "ou seja \n",
    "\n",
    "~~~ python \n",
    "salaries[\"Salary_In_Rupees\"] = salaries[\"Salary_In_Rupees\"].str.replace(\",\", \"\")\n",
    "print(salary[\"Salary_In_Rupees\"].head())\n",
    "~~~\n",
    "\n",
    "Saída\n",
    "~~~\n",
    "1 20688070.00\n",
    "2 8674985.00\n",
    "3 1591390.00\n",
    "4 11935425.00\n",
    "5 5729004.00\n",
    "Name: Salary_In_Rupees, dtype: object\n",
    "~~~\n",
    "\n",
    "Finalmente vamos converter \n",
    "\n",
    "~~~ python \n",
    "salaries[\"Salary_In_Rupees\"] = salaries[\"Salary_In_Rupees\"].astype(float)\n",
    "~~~\n",
    "\n",
    "No exemplo ele quis conveter ruppes em dolar, basta multiplicar por 0.012\n",
    "\n",
    "~~~python\n",
    "salaries[\"Salary_USD\"] = salaries[\"Salary_In_Rupees\"] * 0.012\n",
    "~~~"
   ]
  },
  {
   "cell_type": "markdown",
   "id": "d363ffbd",
   "metadata": {},
   "source": [
    "## Previewing the new column"
   ]
  },
  {
   "cell_type": "code",
   "execution_count": 7,
   "id": "1554a65a",
   "metadata": {},
   "outputs": [
    {
     "name": "stdout",
     "output_type": "stream",
     "text": [
      "   salary  salary_in_usd\n",
      "0   70000          79833\n",
      "1  260000         260000\n",
      "2   85000         109024\n",
      "3   20000          20000\n",
      "4  150000         150000\n"
     ]
    }
   ],
   "source": [
    "print(salaries[[\"salary\", \"salary_in_usd\"]].head())"
   ]
  },
  {
   "cell_type": "markdown",
   "id": "df625454",
   "metadata": {},
   "source": [
    "## Adding summary statistics into a DataFrame"
   ]
  },
  {
   "cell_type": "code",
   "execution_count": 8,
   "id": "7a53e743",
   "metadata": {},
   "outputs": [
    {
     "data": {
      "text/plain": [
       "company_size\n",
       "L    119242.994949\n",
       "M    116905.466258\n",
       "S     77632.674699\n",
       "Name: salary_in_usd, dtype: float64"
      ]
     },
     "execution_count": 8,
     "metadata": {},
     "output_type": "execute_result"
    }
   ],
   "source": [
    "salaries.groupby(\"company_size\")[\"salary_in_usd\"].mean()"
   ]
  },
  {
   "cell_type": "markdown",
   "id": "ae0e432e",
   "metadata": {},
   "source": [
    "### Adding summary statistics into a DataFrame"
   ]
  },
  {
   "cell_type": "code",
   "execution_count": 12,
   "id": "8f2db080",
   "metadata": {},
   "outputs": [
    {
     "name": "stdout",
     "output_type": "stream",
     "text": [
      "experience_level  std_dev      \n",
      "SE                57691.978337     280\n",
      "MI                63901.057478     213\n",
      "EN                44395.541126      88\n",
      "EX                117071.255697     26\n",
      "dtype: int64\n"
     ]
    }
   ],
   "source": [
    "salaries[\"std_dev\"] = salaries.groupby(\"experience_level\")[\"salary_in_usd\"].transform(lambda x: x.std())\n",
    "print(salaries[[\"experience_level\", \"std_dev\"]].value_counts())"
   ]
  },
  {
   "cell_type": "code",
   "execution_count": 13,
   "id": "08ea7572",
   "metadata": {},
   "outputs": [
    {
     "name": "stdout",
     "output_type": "stream",
     "text": [
      "  experience_level  median_by_comp_size\n",
      "0               MI              76940.0\n",
      "1               SE             135500.0\n",
      "2               SE             135500.0\n",
      "3               MI              76940.0\n",
      "4               SE             135500.0\n"
     ]
    }
   ],
   "source": [
    "salaries[\"median_by_comp_size\"] = salaries.groupby(\"experience_level\")[\"salary_in_usd\"].transform(lambda x: x.median())\n",
    "print(salaries[[\"experience_level\", \"median_by_comp_size\"]].head())"
   ]
  },
  {
   "cell_type": "markdown",
   "id": "24af5102",
   "metadata": {},
   "source": [
    "# Handling outliers\n",
    "4 Bloco\n"
   ]
  },
  {
   "cell_type": "code",
   "execution_count": 14,
   "id": "e85d7fe2",
   "metadata": {},
   "outputs": [
    {
     "ename": "NameError",
     "evalue": "name 'plt' is not defined",
     "output_type": "error",
     "traceback": [
      "\u001b[0;31m---------------------------------------------------------------------------\u001b[0m",
      "\u001b[0;31mNameError\u001b[0m                                 Traceback (most recent call last)",
      "\u001b[0;32m/tmp/ipykernel_53394/2570824759.py\u001b[0m in \u001b[0;36m<module>\u001b[0;34m\u001b[0m\n\u001b[1;32m      1\u001b[0m \u001b[0msns\u001b[0m\u001b[0;34m.\u001b[0m\u001b[0mboxplot\u001b[0m\u001b[0;34m(\u001b[0m\u001b[0mdata\u001b[0m\u001b[0;34m=\u001b[0m\u001b[0msalaries\u001b[0m\u001b[0;34m,\u001b[0m \u001b[0my\u001b[0m\u001b[0;34m=\u001b[0m\u001b[0;34m\"salary_in_usd\"\u001b[0m\u001b[0;34m)\u001b[0m\u001b[0;34m\u001b[0m\u001b[0;34m\u001b[0m\u001b[0m\n\u001b[0;32m----> 2\u001b[0;31m \u001b[0mplt\u001b[0m\u001b[0;34m.\u001b[0m\u001b[0mshow\u001b[0m\u001b[0;34m(\u001b[0m\u001b[0;34m)\u001b[0m\u001b[0;34m\u001b[0m\u001b[0;34m\u001b[0m\u001b[0m\n\u001b[0m",
      "\u001b[0;31mNameError\u001b[0m: name 'plt' is not defined"
     ]
    },
    {
     "data": {
      "image/png": "[encoded data removed]",
      "text/plain": [
       "<Figure size 432x288 with 1 Axes>"
      ]
     },
     "metadata": {
      "needs_background": "light"
     },
     "output_type": "display_data"
    }
   ],
   "source": [
    "sns.boxplot(data=salaries, y=\"salary_in_usd\")\n",
    "plt.show()"
   ]
  },
  {
   "cell_type": "markdown",
   "id": "d05de9db",
   "metadata": {},
   "source": [
    "## Identifying thresholds"
   ]
  },
  {
   "cell_type": "code",
   "execution_count": 15,
   "id": "df071413",
   "metadata": {},
   "outputs": [
    {
     "name": "stdout",
     "output_type": "stream",
     "text": [
      "87274.0\n"
     ]
    }
   ],
   "source": [
    "# 75th percentile\n",
    "seventy_fifth = salaries[\"salary_in_usd\"].quantile(0.75)\n",
    "# 25th percentile\n",
    "twenty_fifth = salaries[\"salary_in_usd\"].quantile(0.25)\n",
    "# Interquartile range\n",
    "salaries_iqr = seventy_fifth - twenty_fifth\n",
    "print(salaries_iqr)"
   ]
  },
  {
   "cell_type": "markdown",
   "id": "763fbc69",
   "metadata": {},
   "source": [
    "## Identifying outliers"
   ]
  },
  {
   "cell_type": "code",
   "execution_count": 16,
   "id": "ad32268f",
   "metadata": {},
   "outputs": [
    {
     "name": "stdout",
     "output_type": "stream",
     "text": [
      "280911.0 -68185.0\n"
     ]
    }
   ],
   "source": [
    "# Upper threshold\n",
    "upper = seventy_fifth + (1.5 * salaries_iqr)\n",
    "# Lower threshold\n",
    "lower = twenty_fifth - (1.5 * salaries_iqr)\n",
    "print(upper, lower)"
   ]
  },
  {
   "cell_type": "markdown",
   "id": "e6ac7574",
   "metadata": {},
   "source": [
    "## Subsetting our data"
   ]
  },
  {
   "cell_type": "code",
   "execution_count": 17,
   "id": "24ebee39",
   "metadata": {},
   "outputs": [
    {
     "data": {
      "text/html": [
       "<div>\n",
       "<style scoped>\n",
       "    .dataframe tbody tr th:only-of-type {\n",
       "        vertical-align: middle;\n",
       "    }\n",
       "\n",
       "    .dataframe tbody tr th {\n",
       "        vertical-align: top;\n",
       "    }\n",
       "\n",
       "    .dataframe thead th {\n",
       "        text-align: right;\n",
       "    }\n",
       "</style>\n",
       "<table border=\"1\" class=\"dataframe\">\n",
       "  <thead>\n",
       "    <tr style=\"text-align: right;\">\n",
       "      <th></th>\n",
       "      <th>experience_level</th>\n",
       "      <th>employee_residence</th>\n",
       "      <th>salary_in_usd</th>\n",
       "    </tr>\n",
       "  </thead>\n",
       "  <tbody>\n",
       "    <tr>\n",
       "      <th>25</th>\n",
       "      <td>EX</td>\n",
       "      <td>US</td>\n",
       "      <td>325000</td>\n",
       "    </tr>\n",
       "    <tr>\n",
       "      <th>33</th>\n",
       "      <td>MI</td>\n",
       "      <td>US</td>\n",
       "      <td>450000</td>\n",
       "    </tr>\n",
       "    <tr>\n",
       "      <th>63</th>\n",
       "      <td>SE</td>\n",
       "      <td>US</td>\n",
       "      <td>412000</td>\n",
       "    </tr>\n",
       "    <tr>\n",
       "      <th>97</th>\n",
       "      <td>MI</td>\n",
       "      <td>US</td>\n",
       "      <td>450000</td>\n",
       "    </tr>\n",
       "    <tr>\n",
       "      <th>157</th>\n",
       "      <td>MI</td>\n",
       "      <td>US</td>\n",
       "      <td>423000</td>\n",
       "    </tr>\n",
       "    <tr>\n",
       "      <th>225</th>\n",
       "      <td>EX</td>\n",
       "      <td>US</td>\n",
       "      <td>416000</td>\n",
       "    </tr>\n",
       "    <tr>\n",
       "      <th>252</th>\n",
       "      <td>EX</td>\n",
       "      <td>US</td>\n",
       "      <td>600000</td>\n",
       "    </tr>\n",
       "    <tr>\n",
       "      <th>482</th>\n",
       "      <td>EX</td>\n",
       "      <td>US</td>\n",
       "      <td>324000</td>\n",
       "    </tr>\n",
       "    <tr>\n",
       "      <th>519</th>\n",
       "      <td>SE</td>\n",
       "      <td>US</td>\n",
       "      <td>380000</td>\n",
       "    </tr>\n",
       "    <tr>\n",
       "      <th>523</th>\n",
       "      <td>SE</td>\n",
       "      <td>US</td>\n",
       "      <td>405000</td>\n",
       "    </tr>\n",
       "  </tbody>\n",
       "</table>\n",
       "</div>"
      ],
      "text/plain": [
       "    experience_level employee_residence  salary_in_usd\n",
       "25                EX                 US         325000\n",
       "33                MI                 US         450000\n",
       "63                SE                 US         412000\n",
       "97                MI                 US         450000\n",
       "157               MI                 US         423000\n",
       "225               EX                 US         416000\n",
       "252               EX                 US         600000\n",
       "482               EX                 US         324000\n",
       "519               SE                 US         380000\n",
       "523               SE                 US         405000"
      ]
     },
     "execution_count": 17,
     "metadata": {},
     "output_type": "execute_result"
    }
   ],
   "source": [
    "salaries[(salaries[\"salary_in_usd\"] < lower) | (salaries[\"salary_in_usd\"] > upper)] [[\"experience_level\", \"employee_residence\", \"salary_in_usd\"]]"
   ]
  },
  {
   "cell_type": "markdown",
   "id": "9a41b293",
   "metadata": {},
   "source": [
    "## Dropping outliers"
   ]
  },
  {
   "cell_type": "code",
   "execution_count": 18,
   "id": "e3687744",
   "metadata": {},
   "outputs": [],
   "source": [
    "no_outliers = salaries[(salaries[\"salary_in_usd\"] > lower) & (salaries[\"salary_in_usd\"] < upper)]"
   ]
  },
  {
   "cell_type": "code",
   "execution_count": 20,
   "id": "422b4049",
   "metadata": {},
   "outputs": [
    {
     "data": {
      "text/html": [
       "<div>\n",
       "<style scoped>\n",
       "    .dataframe tbody tr th:only-of-type {\n",
       "        vertical-align: middle;\n",
       "    }\n",
       "\n",
       "    .dataframe tbody tr th {\n",
       "        vertical-align: top;\n",
       "    }\n",
       "\n",
       "    .dataframe thead th {\n",
       "        text-align: right;\n",
       "    }\n",
       "</style>\n",
       "<table border=\"1\" class=\"dataframe\">\n",
       "  <thead>\n",
       "    <tr style=\"text-align: right;\">\n",
       "      <th></th>\n",
       "      <th>Unnamed: 0</th>\n",
       "      <th>work_year</th>\n",
       "      <th>salary</th>\n",
       "      <th>salary_in_usd</th>\n",
       "      <th>remote_ratio</th>\n",
       "      <th>std_dev</th>\n",
       "      <th>median_by_comp_size</th>\n",
       "    </tr>\n",
       "  </thead>\n",
       "  <tbody>\n",
       "    <tr>\n",
       "      <th>count</th>\n",
       "      <td>597.000000</td>\n",
       "      <td>597.000000</td>\n",
       "      <td>5.970000e+02</td>\n",
       "      <td>597.000000</td>\n",
       "      <td>597.000000</td>\n",
       "      <td>597.000000</td>\n",
       "      <td>597.000000</td>\n",
       "    </tr>\n",
       "    <tr>\n",
       "      <th>mean</th>\n",
       "      <td>304.095477</td>\n",
       "      <td>2021.412060</td>\n",
       "      <td>3.224171e+05</td>\n",
       "      <td>107168.855946</td>\n",
       "      <td>70.686767</td>\n",
       "      <td>60104.313759</td>\n",
       "      <td>104580.443886</td>\n",
       "    </tr>\n",
       "    <tr>\n",
       "      <th>std</th>\n",
       "      <td>174.888716</td>\n",
       "      <td>0.688634</td>\n",
       "      <td>1.557181e+06</td>\n",
       "      <td>58555.516292</td>\n",
       "      <td>40.797800</td>\n",
       "      <td>12806.618613</td>\n",
       "      <td>34926.222063</td>\n",
       "    </tr>\n",
       "    <tr>\n",
       "      <th>min</th>\n",
       "      <td>0.000000</td>\n",
       "      <td>2020.000000</td>\n",
       "      <td>4.000000e+03</td>\n",
       "      <td>2859.000000</td>\n",
       "      <td>0.000000</td>\n",
       "      <td>44395.541126</td>\n",
       "      <td>56500.000000</td>\n",
       "    </tr>\n",
       "    <tr>\n",
       "      <th>25%</th>\n",
       "      <td>153.000000</td>\n",
       "      <td>2021.000000</td>\n",
       "      <td>6.999900e+04</td>\n",
       "      <td>62649.000000</td>\n",
       "      <td>50.000000</td>\n",
       "      <td>57691.978337</td>\n",
       "      <td>76940.000000</td>\n",
       "    </tr>\n",
       "    <tr>\n",
       "      <th>50%</th>\n",
       "      <td>305.000000</td>\n",
       "      <td>2022.000000</td>\n",
       "      <td>1.129000e+05</td>\n",
       "      <td>100000.000000</td>\n",
       "      <td>100.000000</td>\n",
       "      <td>57691.978337</td>\n",
       "      <td>135500.000000</td>\n",
       "    </tr>\n",
       "    <tr>\n",
       "      <th>75%</th>\n",
       "      <td>454.000000</td>\n",
       "      <td>2022.000000</td>\n",
       "      <td>1.600000e+05</td>\n",
       "      <td>148261.000000</td>\n",
       "      <td>100.000000</td>\n",
       "      <td>63901.057478</td>\n",
       "      <td>135500.000000</td>\n",
       "    </tr>\n",
       "    <tr>\n",
       "      <th>max</th>\n",
       "      <td>606.000000</td>\n",
       "      <td>2022.000000</td>\n",
       "      <td>3.040000e+07</td>\n",
       "      <td>276000.000000</td>\n",
       "      <td>100.000000</td>\n",
       "      <td>117071.255697</td>\n",
       "      <td>171437.500000</td>\n",
       "    </tr>\n",
       "  </tbody>\n",
       "</table>\n",
       "</div>"
      ],
      "text/plain": [
       "       Unnamed: 0    work_year        salary  salary_in_usd  remote_ratio  \\\n",
       "count  597.000000   597.000000  5.970000e+02     597.000000    597.000000   \n",
       "mean   304.095477  2021.412060  3.224171e+05  107168.855946     70.686767   \n",
       "std    174.888716     0.688634  1.557181e+06   58555.516292     40.797800   \n",
       "min      0.000000  2020.000000  4.000000e+03    2859.000000      0.000000   \n",
       "25%    153.000000  2021.000000  6.999900e+04   62649.000000     50.000000   \n",
       "50%    305.000000  2022.000000  1.129000e+05  100000.000000    100.000000   \n",
       "75%    454.000000  2022.000000  1.600000e+05  148261.000000    100.000000   \n",
       "max    606.000000  2022.000000  3.040000e+07  276000.000000    100.000000   \n",
       "\n",
       "             std_dev  median_by_comp_size  \n",
       "count     597.000000           597.000000  \n",
       "mean    60104.313759        104580.443886  \n",
       "std     12806.618613         34926.222063  \n",
       "min     44395.541126         56500.000000  \n",
       "25%     57691.978337         76940.000000  \n",
       "50%     57691.978337        135500.000000  \n",
       "75%     63901.057478        135500.000000  \n",
       "max    117071.255697        171437.500000  "
      ]
     },
     "execution_count": 20,
     "metadata": {},
     "output_type": "execute_result"
    }
   ],
   "source": [
    "no_outliers.describe()"
   ]
  },
  {
   "cell_type": "markdown",
   "id": "6aa2ad5d",
   "metadata": {},
   "source": [
    "ok, finalizado com sucesso "
   ]
  },
  {
   "cell_type": "code",
   "execution_count": null,
   "id": "71e31466",
   "metadata": {},
   "outputs": [],
   "source": []
  }
 ],
 "metadata": {
  "kernelspec": {
   "display_name": "Python 3 (ipykernel)",
   "language": "python",
   "name": "python3"
  },
  "language_info": {
   "codemirror_mode": {
    "name": "ipython",
    "version": 3
   },
   "file_extension": ".py",
   "mimetype": "text/x-python",
   "name": "python",
   "nbconvert_exporter": "python",
   "pygments_lexer": "ipython3",
   "version": "3.10.12"
  }
 },
 "nbformat": 4,
 "nbformat_minor": 5
}
