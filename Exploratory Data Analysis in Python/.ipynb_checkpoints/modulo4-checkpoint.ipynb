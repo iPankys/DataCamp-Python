{
 "cells": [
  {
   "cell_type": "markdown",
   "id": "d9f498f5",
   "metadata": {},
   "source": [
    "# Considerations for categorical data"
   ]
  },
  {
   "cell_type": "code",
   "execution_count": 23,
   "id": "5d5c557f",
   "metadata": {},
   "outputs": [],
   "source": [
    "# import \n",
    "import pandas as pd\n",
    "import numpy as np\n",
    "import seaborn as sns"
   ]
  },
  {
   "cell_type": "code",
   "execution_count": 19,
   "id": "9ad669b9",
   "metadata": {},
   "outputs": [
    {
     "data": {
      "text/html": [
       "<div>\n",
       "<style scoped>\n",
       "    .dataframe tbody tr th:only-of-type {\n",
       "        vertical-align: middle;\n",
       "    }\n",
       "\n",
       "    .dataframe tbody tr th {\n",
       "        vertical-align: top;\n",
       "    }\n",
       "\n",
       "    .dataframe thead th {\n",
       "        text-align: right;\n",
       "    }\n",
       "</style>\n",
       "<table border=\"1\" class=\"dataframe\">\n",
       "  <thead>\n",
       "    <tr style=\"text-align: right;\">\n",
       "      <th></th>\n",
       "      <th>Unnamed: 0</th>\n",
       "      <th>work_year</th>\n",
       "      <th>experience_level</th>\n",
       "      <th>employment_type</th>\n",
       "      <th>job_title</th>\n",
       "      <th>salary</th>\n",
       "      <th>salary_currency</th>\n",
       "      <th>salary_in_usd</th>\n",
       "      <th>employee_residence</th>\n",
       "      <th>remote_ratio</th>\n",
       "      <th>company_location</th>\n",
       "      <th>company_size</th>\n",
       "    </tr>\n",
       "  </thead>\n",
       "  <tbody>\n",
       "    <tr>\n",
       "      <th>0</th>\n",
       "      <td>0</td>\n",
       "      <td>2020</td>\n",
       "      <td>MI</td>\n",
       "      <td>FT</td>\n",
       "      <td>Data Scientist</td>\n",
       "      <td>70000</td>\n",
       "      <td>EUR</td>\n",
       "      <td>79833</td>\n",
       "      <td>DE</td>\n",
       "      <td>0</td>\n",
       "      <td>DE</td>\n",
       "      <td>L</td>\n",
       "    </tr>\n",
       "    <tr>\n",
       "      <th>1</th>\n",
       "      <td>1</td>\n",
       "      <td>2020</td>\n",
       "      <td>SE</td>\n",
       "      <td>FT</td>\n",
       "      <td>Machine Learning Scientist</td>\n",
       "      <td>260000</td>\n",
       "      <td>USD</td>\n",
       "      <td>260000</td>\n",
       "      <td>JP</td>\n",
       "      <td>0</td>\n",
       "      <td>JP</td>\n",
       "      <td>S</td>\n",
       "    </tr>\n",
       "    <tr>\n",
       "      <th>2</th>\n",
       "      <td>2</td>\n",
       "      <td>2020</td>\n",
       "      <td>SE</td>\n",
       "      <td>FT</td>\n",
       "      <td>Big Data Engineer</td>\n",
       "      <td>85000</td>\n",
       "      <td>GBP</td>\n",
       "      <td>109024</td>\n",
       "      <td>GB</td>\n",
       "      <td>50</td>\n",
       "      <td>GB</td>\n",
       "      <td>M</td>\n",
       "    </tr>\n",
       "    <tr>\n",
       "      <th>3</th>\n",
       "      <td>3</td>\n",
       "      <td>2020</td>\n",
       "      <td>MI</td>\n",
       "      <td>FT</td>\n",
       "      <td>Product Data Analyst</td>\n",
       "      <td>20000</td>\n",
       "      <td>USD</td>\n",
       "      <td>20000</td>\n",
       "      <td>HN</td>\n",
       "      <td>0</td>\n",
       "      <td>HN</td>\n",
       "      <td>S</td>\n",
       "    </tr>\n",
       "    <tr>\n",
       "      <th>4</th>\n",
       "      <td>4</td>\n",
       "      <td>2020</td>\n",
       "      <td>SE</td>\n",
       "      <td>FT</td>\n",
       "      <td>Machine Learning Engineer</td>\n",
       "      <td>150000</td>\n",
       "      <td>USD</td>\n",
       "      <td>150000</td>\n",
       "      <td>US</td>\n",
       "      <td>50</td>\n",
       "      <td>US</td>\n",
       "      <td>L</td>\n",
       "    </tr>\n",
       "  </tbody>\n",
       "</table>\n",
       "</div>"
      ],
      "text/plain": [
       "   Unnamed: 0  work_year experience_level employment_type  \\\n",
       "0           0       2020               MI              FT   \n",
       "1           1       2020               SE              FT   \n",
       "2           2       2020               SE              FT   \n",
       "3           3       2020               MI              FT   \n",
       "4           4       2020               SE              FT   \n",
       "\n",
       "                    job_title  salary salary_currency  salary_in_usd  \\\n",
       "0              Data Scientist   70000             EUR          79833   \n",
       "1  Machine Learning Scientist  260000             USD         260000   \n",
       "2           Big Data Engineer   85000             GBP         109024   \n",
       "3        Product Data Analyst   20000             USD          20000   \n",
       "4   Machine Learning Engineer  150000             USD         150000   \n",
       "\n",
       "  employee_residence  remote_ratio company_location company_size  \n",
       "0                 DE             0               DE            L  \n",
       "1                 JP             0               JP            S  \n",
       "2                 GB            50               GB            M  \n",
       "3                 HN             0               HN            S  \n",
       "4                 US            50               US            L  "
      ]
     },
     "execution_count": 19,
     "metadata": {},
     "output_type": "execute_result"
    }
   ],
   "source": [
    "salaries = pd.read_csv(\"../datasets/ds_salaries.csv\")\n",
    "salaries.head()"
   ]
  },
  {
   "cell_type": "code",
   "execution_count": 20,
   "id": "6b56dde7",
   "metadata": {},
   "outputs": [
    {
     "name": "stdout",
     "output_type": "stream",
     "text": [
      "                    job_title      Job_Category\n",
      "0              Data Scientist      Data Science\n",
      "1  Machine Learning Scientist  Machine Learning\n",
      "2           Big Data Engineer  Data Engineering\n",
      "3        Product Data Analyst    Data Analytics\n",
      "4   Machine Learning Engineer  Machine Learning\n"
     ]
    }
   ],
   "source": [
    "# Vamos criar a coluna  categoria para podemos trabalhar legal com os dados\n",
    "# esse trecho nos já viu no modulo 2 desse curso\n",
    "\n",
    "job_categories = [\"Data Science\", \"Data Analytics\", \"Data Engineering\", \"Machine Learning\", \"Managerial\", \"Consultant\"]\n",
    "\n",
    "data_science = \"Data Scientist|NLP\"\n",
    "data_analyst = \"Analyst|Analytics\"\n",
    "data_engineer = \"Data Engineer|ETL|Architect|Infrastructure\"\n",
    "ml_engineer = \"Machine Learning|ML|Big Data|AI\"\n",
    "manager = \"Manager|Head|Director|Lead|Principal|Staff\"\n",
    "consultant = \"Consultant|Freelance\"\n",
    "\n",
    "conditions = [\n",
    "(salaries[\"job_title\"].str.contains(data_science)),\n",
    "(salaries[\"job_title\"].str.contains(data_analyst)),\n",
    "(salaries[\"job_title\"].str.contains(data_engineer)),\n",
    "(salaries[\"job_title\"].str.contains(ml_engineer)),\n",
    "(salaries[\"job_title\"].str.contains(manager)),\n",
    "(salaries[\"job_title\"].str.contains(consultant))\n",
    "]\n",
    "\n",
    "salaries[\"Job_Category\"] = np.select(conditions, job_categories, default=\"Other\")\n",
    "\n",
    "print(salaries[[\"job_title\", \"Job_Category\"]].head())\n",
    "\n"
   ]
  },
  {
   "cell_type": "markdown",
   "id": "55ca467b",
   "metadata": {},
   "source": [
    "## Frequencia de Classe"
   ]
  },
  {
   "cell_type": "code",
   "execution_count": 12,
   "id": "aaf5d664",
   "metadata": {},
   "outputs": [
    {
     "name": "stdout",
     "output_type": "stream",
     "text": [
      "Data Engineering    175\n",
      "Data Science        160\n",
      "Data Analytics      135\n",
      "Machine Learning     72\n",
      "Other                30\n",
      "Managerial           28\n",
      "Consultant            7\n",
      "Name: Job_Category, dtype: int64\n"
     ]
    }
   ],
   "source": [
    "#Class frequency\n",
    "# Print the relative frequency of Job_Category\n",
    "print(salaries[\"Job_Category\"].value_counts())"
   ]
  },
  {
   "cell_type": "code",
   "execution_count": 13,
   "id": "112da1e9",
   "metadata": {},
   "outputs": [
    {
     "name": "stdout",
     "output_type": "stream",
     "text": [
      "Data Engineering    0.288303\n",
      "Data Science        0.263591\n",
      "Data Analytics      0.222405\n",
      "Machine Learning    0.118616\n",
      "Other               0.049423\n",
      "Managerial          0.046129\n",
      "Consultant          0.011532\n",
      "Name: Job_Category, dtype: float64\n"
     ]
    }
   ],
   "source": [
    "print(salaries[\"Job_Category\"].value_counts(normalize=True))"
   ]
  },
  {
   "cell_type": "markdown",
   "id": "ab9945a4",
   "metadata": {},
   "source": [
    "## Tabela Cruzada "
   ]
  },
  {
   "cell_type": "code",
   "execution_count": 15,
   "id": "cc8398e6",
   "metadata": {},
   "outputs": [
    {
     "name": "stdout",
     "output_type": "stream",
     "text": [
      "experience_level  EN  EX  MI   SE\n",
      "company_size                     \n",
      "L                 29  11  86   72\n",
      "M                 30  12  98  186\n",
      "S                 29   3  29   22\n"
     ]
    }
   ],
   "source": [
    "print(pd.crosstab(salaries[\"company_size\"], salaries[\"experience_level\"]))"
   ]
  },
  {
   "cell_type": "code",
   "execution_count": 16,
   "id": "b4e85570",
   "metadata": {},
   "outputs": [
    {
     "name": "stdout",
     "output_type": "stream",
     "text": [
      "company_size       L    M   S\n",
      "Job_Category                 \n",
      "Consultant         3    1   3\n",
      "Data Analytics    32   91  12\n",
      "Data Engineering  54  107  14\n",
      "Data Science      56   81  23\n",
      "Machine Learning  25   25  22\n",
      "Managerial        14   11   3\n",
      "Other             14   10   6\n"
     ]
    }
   ],
   "source": [
    "print(pd.crosstab(salaries[\"Job_Category\"], salaries[\"company_size\"]))"
   ]
  },
  {
   "cell_type": "code",
   "execution_count": 17,
   "id": "819b9340",
   "metadata": {},
   "outputs": [
    {
     "name": "stdout",
     "output_type": "stream",
     "text": [
      "company_size                  L              M              S\n",
      "Job_Category                                                 \n",
      "Consultant         81221.333333    5707.000000   78858.000000\n",
      "Data Analytics    107869.062500  102767.340659   45112.000000\n",
      "Data Engineering  119214.333333  122187.700935   89696.571429\n",
      "Data Science      112967.535714  127419.938272   73758.304348\n",
      "Machine Learning  129738.280000  105620.000000   89151.545455\n",
      "Managerial        178149.285714  168007.636364  103658.000000\n",
      "Other             100952.571429   86996.400000   73515.500000\n"
     ]
    }
   ],
   "source": [
    "print(pd.crosstab(salaries[\"Job_Category\"], salaries[\"company_size\"],\n",
    "            values=salaries[\"salary_in_usd\"], aggfunc=\"mean\"))"
   ]
  },
  {
   "cell_type": "markdown",
   "id": "0adcb515",
   "metadata": {},
   "source": [
    "# Generating new features\n",
    "\n",
    "segunda parte "
   ]
  },
  {
   "cell_type": "markdown",
   "id": "40836f08",
   "metadata": {},
   "source": [
    "## Correlation\n",
    "\n",
    "Este exmplo não rola por fato de dados \n",
    "\n",
    "~~~python\n",
    "# Get the month of the response\n",
    "salaries[\"month\"] = salaries[\"date_of_response\"].dt.month\n",
    "\n",
    "# Extract the weekday of the response\n",
    "salaries[\"weekday\"] = salaries[\"date_of_response\"].dt.weekday\n",
    "\n",
    "# Create a heatmap\n",
    "sns.heatmap(salaries.corr(), annot=True)\n",
    "plt.show()\n",
    "~~~\n"
   ]
  },
  {
   "cell_type": "markdown",
   "id": "b87b9d06",
   "metadata": {},
   "source": [
    "## Descriptive statistics"
   ]
  },
  {
   "cell_type": "code",
   "execution_count": 21,
   "id": "bddef84d",
   "metadata": {},
   "outputs": [
    {
     "name": "stdout",
     "output_type": "stream",
     "text": [
      "62726.0 101570.0 150000.0\n"
     ]
    }
   ],
   "source": [
    "# Find the 25th percentile\n",
    "twenty_fifth = salaries[\"salary_in_usd\"].quantile(0.25)\n",
    "\n",
    "# Save the median\n",
    "salaries_median = salaries[\"salary_in_usd\"].median()\n",
    "\n",
    "# Gather the 75th percentile\n",
    "seventy_fifth = salaries[\"salary_in_usd\"].quantile(0.75)\n",
    "print(twenty_fifth, salaries_median, seventy_fifth)"
   ]
  },
  {
   "cell_type": "code",
   "execution_count": 24,
   "id": "85f24dc1",
   "metadata": {},
   "outputs": [
    {
     "ename": "NameError",
     "evalue": "name 'plt' is not defined",
     "output_type": "error",
     "traceback": [
      "\u001b[0;31m---------------------------------------------------------------------------\u001b[0m",
      "\u001b[0;31mNameError\u001b[0m                                 Traceback (most recent call last)",
      "\u001b[0;32m/tmp/ipykernel_21966/3369018122.py\u001b[0m in \u001b[0;36m<module>\u001b[0;34m\u001b[0m\n\u001b[1;32m     12\u001b[0m \u001b[0;31m# Plot the count of salary levels at companies of different sizes\u001b[0m\u001b[0;34m\u001b[0m\u001b[0;34m\u001b[0m\u001b[0m\n\u001b[1;32m     13\u001b[0m \u001b[0msns\u001b[0m\u001b[0;34m.\u001b[0m\u001b[0mcountplot\u001b[0m\u001b[0;34m(\u001b[0m\u001b[0mdata\u001b[0m\u001b[0;34m=\u001b[0m\u001b[0msalaries\u001b[0m\u001b[0;34m,\u001b[0m \u001b[0mx\u001b[0m\u001b[0;34m=\u001b[0m\u001b[0;34m\"company_size\"\u001b[0m\u001b[0;34m,\u001b[0m \u001b[0mhue\u001b[0m\u001b[0;34m=\u001b[0m\u001b[0;34m\"salary_level\"\u001b[0m\u001b[0;34m)\u001b[0m\u001b[0;34m\u001b[0m\u001b[0;34m\u001b[0m\u001b[0m\n\u001b[0;32m---> 14\u001b[0;31m \u001b[0mplt\u001b[0m\u001b[0;34m.\u001b[0m\u001b[0mshow\u001b[0m\u001b[0;34m(\u001b[0m\u001b[0;34m)\u001b[0m\u001b[0;34m\u001b[0m\u001b[0;34m\u001b[0m\u001b[0m\n\u001b[0m",
      "\u001b[0;31mNameError\u001b[0m: name 'plt' is not defined"
     ]
    },
    {
     "data": {
      "image/png": "[encoded data removed]",
      "text/plain": [
       "<Figure size 432x288 with 1 Axes>"
      ]
     },
     "metadata": {
      "needs_background": "light"
     },
     "output_type": "display_data"
    }
   ],
   "source": [
    "# Create salary labels\n",
    "salary_labels = [\"entry\", \"mid\", \"senior\", \"exec\"]\n",
    "\n",
    "# Create the salary ranges list\n",
    "salary_ranges = [0, salaries[\"salary_in_usd\"].quantile(0.25) , salaries[\"salary_in_usd\"].median() , salaries[\"salary_in_usd\"].quantile(0.75),salaries[\"salary_in_usd\"].max() ]\n",
    "\n",
    "# Create salary_level\n",
    "salaries[\"salary_level\"] = pd.cut(salaries[\"salary_in_usd\"],\n",
    "                                  bins=salary_ranges,\n",
    "                                  labels=salary_labels)\n",
    "\n",
    "# Plot the count of salary levels at companies of different sizes\n",
    "sns.countplot(data=salaries, x=\"company_size\", hue=\"salary_level\")\n",
    "plt.show()\n"
   ]
  },
  {
   "cell_type": "markdown",
   "id": "7466c6ef",
   "metadata": {},
   "source": [
    "# Generating hypotheses\n",
    "4 Bloco"
   ]
  },
  {
   "cell_type": "markdown",
   "id": "9448c120",
   "metadata": {},
   "source": [
    "## Comparing salaries\n",
    "\n",
    "Exploratory data analysis is a crucial step in generating hypotheses!\n",
    "\n",
    "You've had an idea you'd like to explore—do data professionals get paid more in the USA than they do in Great Britain?\n",
    "\n",
    "You'll need to subset the data by \"Employee_Location\" and produce a plot displaying the average salary between the two groups."
   ]
  },
  {
   "cell_type": "code",
   "execution_count": 26,
   "id": "d5fbf9d5",
   "metadata": {},
   "outputs": [
    {
     "ename": "NameError",
     "evalue": "name 'plt' is not defined",
     "output_type": "error",
     "traceback": [
      "\u001b[0;31m---------------------------------------------------------------------------\u001b[0m",
      "\u001b[0;31mNameError\u001b[0m                                 Traceback (most recent call last)",
      "\u001b[0;32m/tmp/ipykernel_21966/2036927215.py\u001b[0m in \u001b[0;36m<module>\u001b[0;34m\u001b[0m\n\u001b[1;32m      4\u001b[0m \u001b[0;31m# Create a barplot of salaries by location\u001b[0m\u001b[0;34m\u001b[0m\u001b[0;34m\u001b[0m\u001b[0m\n\u001b[1;32m      5\u001b[0m \u001b[0msns\u001b[0m\u001b[0;34m.\u001b[0m\u001b[0mbarplot\u001b[0m\u001b[0;34m(\u001b[0m\u001b[0mdata\u001b[0m\u001b[0;34m=\u001b[0m\u001b[0musa_and_gb\u001b[0m\u001b[0;34m,\u001b[0m \u001b[0my\u001b[0m\u001b[0;34m=\u001b[0m\u001b[0;34m\"salary_in_usd\"\u001b[0m\u001b[0;34m,\u001b[0m \u001b[0mx\u001b[0m\u001b[0;34m=\u001b[0m\u001b[0;34m\"employee_residence\"\u001b[0m\u001b[0;34m)\u001b[0m\u001b[0;34m\u001b[0m\u001b[0;34m\u001b[0m\u001b[0m\n\u001b[0;32m----> 6\u001b[0;31m \u001b[0mplt\u001b[0m\u001b[0;34m.\u001b[0m\u001b[0mshow\u001b[0m\u001b[0;34m(\u001b[0m\u001b[0;34m)\u001b[0m\u001b[0;34m\u001b[0m\u001b[0;34m\u001b[0m\u001b[0m\n\u001b[0m",
      "\u001b[0;31mNameError\u001b[0m: name 'plt' is not defined"
     ]
    },
    {
     "data": {
      "image/png": "[encoded data removed]",
      "text/plain": [
       "<Figure size 432x288 with 1 Axes>"
      ]
     },
     "metadata": {
      "needs_background": "light"
     },
     "output_type": "display_data"
    }
   ],
   "source": [
    "# Filter for employees in the US or GB\n",
    "usa_and_gb = salaries[salaries[\"employee_residence\"].isin([\"US\", \"GB\"])]\n",
    "\n",
    "# Create a barplot of salaries by location\n",
    "sns.barplot(data=usa_and_gb, y=\"salary_in_usd\", x=\"employee_residence\")\n",
    "plt.show()"
   ]
  },
  {
   "cell_type": "markdown",
   "id": "241cd5ae",
   "metadata": {},
   "source": [
    "## Choosing a hypothesis\n",
    "\n",
    "You've seen how visualizations can be used to generate hypotheses, making them a crucial part of exploratory data analysis!\n",
    "\n",
    "In this exercise, you'll generate a bar plot to inspect how salaries differ based on company size and employment status. For reference, there are four values:\n",
    "Value \tMeaning\n",
    "CT \tContractor\n",
    "FL \tFreelance\n",
    "PT \tPart-time\n",
    "FT \tFull-time\n"
   ]
  },
  {
   "cell_type": "code",
   "execution_count": 27,
   "id": "d7edc0f6",
   "metadata": {},
   "outputs": [
    {
     "ename": "NameError",
     "evalue": "name 'plt' is not defined",
     "output_type": "error",
     "traceback": [
      "\u001b[0;31m---------------------------------------------------------------------------\u001b[0m",
      "\u001b[0;31mNameError\u001b[0m                                 Traceback (most recent call last)",
      "\u001b[0;32m/tmp/ipykernel_21966/2372170146.py\u001b[0m in \u001b[0;36m<module>\u001b[0;34m\u001b[0m\n\u001b[1;32m      1\u001b[0m \u001b[0;31m# Create a bar plot of salary versus company size, factoring in employment status\u001b[0m\u001b[0;34m\u001b[0m\u001b[0;34m\u001b[0m\u001b[0m\n\u001b[1;32m      2\u001b[0m \u001b[0msns\u001b[0m\u001b[0;34m.\u001b[0m\u001b[0mbarplot\u001b[0m\u001b[0;34m(\u001b[0m\u001b[0mdata\u001b[0m\u001b[0;34m=\u001b[0m\u001b[0msalaries\u001b[0m\u001b[0;34m,\u001b[0m \u001b[0my\u001b[0m\u001b[0;34m=\u001b[0m\u001b[0;34m\"salary_in_usd\"\u001b[0m\u001b[0;34m,\u001b[0m \u001b[0mx\u001b[0m\u001b[0;34m=\u001b[0m\u001b[0;34m\"company_size\"\u001b[0m\u001b[0;34m,\u001b[0m \u001b[0mhue\u001b[0m\u001b[0;34m=\u001b[0m\u001b[0;34m\"employment_type\"\u001b[0m\u001b[0;34m)\u001b[0m\u001b[0;34m\u001b[0m\u001b[0;34m\u001b[0m\u001b[0m\n\u001b[0;32m----> 3\u001b[0;31m \u001b[0mplt\u001b[0m\u001b[0;34m.\u001b[0m\u001b[0mshow\u001b[0m\u001b[0;34m(\u001b[0m\u001b[0;34m)\u001b[0m\u001b[0;34m\u001b[0m\u001b[0;34m\u001b[0m\u001b[0m\n\u001b[0m",
      "\u001b[0;31mNameError\u001b[0m: name 'plt' is not defined"
     ]
    },
    {
     "data": {
      "image/png": "[encoded data removed]",
      "text/plain": [
       "<Figure size 432x288 with 1 Axes>"
      ]
     },
     "metadata": {
      "needs_background": "light"
     },
     "output_type": "display_data"
    }
   ],
   "source": [
    "# Create a bar plot of salary versus company size, factoring in employment status\n",
    "sns.barplot(data=salaries, y=\"salary_in_usd\", x=\"company_size\", hue=\"employment_type\")\n",
    "plt.show()"
   ]
  },
  {
   "cell_type": "markdown",
   "id": "53ee1358",
   "metadata": {},
   "source": [
    "## Finalizado com sucesso"
   ]
  },
  {
   "cell_type": "code",
   "execution_count": null,
   "id": "f8825f80",
   "metadata": {},
   "outputs": [],
   "source": []
  }
 ],
 "metadata": {
  "kernelspec": {
   "display_name": "Python 3 (ipykernel)",
   "language": "python",
   "name": "python3"
  },
  "language_info": {
   "codemirror_mode": {
    "name": "ipython",
    "version": 3
   },
   "file_extension": ".py",
   "mimetype": "text/x-python",
   "name": "python",
   "nbconvert_exporter": "python",
   "pygments_lexer": "ipython3",
   "version": "3.10.12"
  }
 },
 "nbformat": 4,
 "nbformat_minor": 5
}
